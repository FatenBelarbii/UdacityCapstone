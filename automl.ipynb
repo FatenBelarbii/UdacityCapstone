{
 "cells": [
  {
   "cell_type": "markdown",
   "metadata": {},
   "source": [
    "# Automated ML\n",
    "\n",
    "TODO: Import Dependencies. In the cell below, import all the dependencies that you will need to complete the project."
   ]
  },
  {
   "cell_type": "code",
   "execution_count": 2,
   "metadata": {
    "gather": {
     "logged": 1598423888013
    },
    "jupyter": {
     "outputs_hidden": false,
     "source_hidden": false
    },
    "nteract": {
     "transient": {
      "deleting": false
     }
    }
   },
   "outputs": [
    {
     "name": "stdout",
     "output_type": "stream",
     "text": [
      "SDK version: 1.22.0\n"
     ]
    }
   ],
   "source": [
    "import logging\n",
    "\n",
    "from matplotlib import pyplot as plt\n",
    "import pandas as pd\n",
    "import os\n",
    "\n",
    "import azureml.core\n",
    "from azureml.core.experiment import Experiment\n",
    "from azureml.core.workspace import Workspace\n",
    "from azureml.automl.core.featurization import FeaturizationConfig\n",
    "from azureml.core.dataset import Dataset\n",
    "from azureml.train.automl import AutoMLConfig\n",
    "from azureml.interpret import ExplanationClient\n",
    "from azureml.automl.runtime.onnx_convert import OnnxConverter\n",
    "from azureml.data.dataset_factory import TabularDatasetFactory\n",
    "from sklearn.preprocessing import OneHotEncoder\n",
    "import pandas as pd\n",
    "from azureml.core.run import Run\n",
    "from sklearn.model_selection import train_test_split\n",
    "from azureml.widgets import RunDetails\n",
    "from azureml.train.sklearn import SKLearn\n",
    "\n",
    "print(\"SDK version:\", azureml.core.VERSION)"
   ]
  },
  {
   "cell_type": "markdown",
   "metadata": {},
   "source": [
    "## Dataset\n",
    "\n",
    "### Overview\n",
    "TODO: In this markdown cell, give an overview of the dataset you are using. Also mention the task you will be performing.\n",
    "\n",
    "\n",
    "TODO: Get data. In the cell below, write code to access the data you will be using in this project. Remember that the dataset needs to be external."
   ]
  },
  {
   "cell_type": "code",
   "execution_count": 3,
   "metadata": {},
   "outputs": [],
   "source": [
    "# azureml-core of version 1.0.72 or higher is required\n",
    "# azureml-dataprep[pandas] of version 1.1.34 or higher is required\n",
    "from azureml.core import Workspace, Dataset\n",
    "\n",
    "subscription_id = 'fa3dfb7e-5583-41a5-b60c-022e3fcc2942'\n",
    "resource_group = 'mlops-rg-templateml'\n",
    "workspace_name = 'mlops-aml-ws-templateml'\n",
    "\n",
    "workspace = Workspace(subscription_id, resource_group, workspace_name)\n",
    "\n",
    "dataset = Dataset.get_by_name(workspace, name='HealthCareDataset_StrokeData')\n",
    "data = dataset.to_pandas_dataframe()"
   ]
  },
  {
   "cell_type": "code",
   "execution_count": 4,
   "metadata": {},
   "outputs": [
    {
     "data": {
      "text/html": [
       "<div>\n",
       "<style scoped>\n",
       "    .dataframe tbody tr th:only-of-type {\n",
       "        vertical-align: middle;\n",
       "    }\n",
       "\n",
       "    .dataframe tbody tr th {\n",
       "        vertical-align: top;\n",
       "    }\n",
       "\n",
       "    .dataframe thead th {\n",
       "        text-align: right;\n",
       "    }\n",
       "</style>\n",
       "<table border=\"1\" class=\"dataframe\">\n",
       "  <thead>\n",
       "    <tr style=\"text-align: right;\">\n",
       "      <th></th>\n",
       "      <th>id</th>\n",
       "      <th>age</th>\n",
       "      <th>hypertension</th>\n",
       "      <th>heart_disease</th>\n",
       "      <th>avg_glucose_level</th>\n",
       "      <th>stroke</th>\n",
       "    </tr>\n",
       "  </thead>\n",
       "  <tbody>\n",
       "    <tr>\n",
       "      <th>count</th>\n",
       "      <td>5110.00</td>\n",
       "      <td>5110.00</td>\n",
       "      <td>5110.00</td>\n",
       "      <td>5110.00</td>\n",
       "      <td>5110.00</td>\n",
       "      <td>5110.00</td>\n",
       "    </tr>\n",
       "    <tr>\n",
       "      <th>mean</th>\n",
       "      <td>36517.83</td>\n",
       "      <td>43.23</td>\n",
       "      <td>0.10</td>\n",
       "      <td>0.05</td>\n",
       "      <td>106.15</td>\n",
       "      <td>0.05</td>\n",
       "    </tr>\n",
       "    <tr>\n",
       "      <th>std</th>\n",
       "      <td>21161.72</td>\n",
       "      <td>22.61</td>\n",
       "      <td>0.30</td>\n",
       "      <td>0.23</td>\n",
       "      <td>45.28</td>\n",
       "      <td>0.22</td>\n",
       "    </tr>\n",
       "    <tr>\n",
       "      <th>min</th>\n",
       "      <td>67.00</td>\n",
       "      <td>0.08</td>\n",
       "      <td>0.00</td>\n",
       "      <td>0.00</td>\n",
       "      <td>55.12</td>\n",
       "      <td>0.00</td>\n",
       "    </tr>\n",
       "    <tr>\n",
       "      <th>25%</th>\n",
       "      <td>17741.25</td>\n",
       "      <td>25.00</td>\n",
       "      <td>0.00</td>\n",
       "      <td>0.00</td>\n",
       "      <td>77.24</td>\n",
       "      <td>0.00</td>\n",
       "    </tr>\n",
       "    <tr>\n",
       "      <th>50%</th>\n",
       "      <td>36932.00</td>\n",
       "      <td>45.00</td>\n",
       "      <td>0.00</td>\n",
       "      <td>0.00</td>\n",
       "      <td>91.88</td>\n",
       "      <td>0.00</td>\n",
       "    </tr>\n",
       "    <tr>\n",
       "      <th>75%</th>\n",
       "      <td>54682.00</td>\n",
       "      <td>61.00</td>\n",
       "      <td>0.00</td>\n",
       "      <td>0.00</td>\n",
       "      <td>114.09</td>\n",
       "      <td>0.00</td>\n",
       "    </tr>\n",
       "    <tr>\n",
       "      <th>max</th>\n",
       "      <td>72940.00</td>\n",
       "      <td>82.00</td>\n",
       "      <td>1.00</td>\n",
       "      <td>1.00</td>\n",
       "      <td>271.74</td>\n",
       "      <td>1.00</td>\n",
       "    </tr>\n",
       "  </tbody>\n",
       "</table>\n",
       "</div>"
      ],
      "text/plain": [
       "            id     age  hypertension  heart_disease  avg_glucose_level  stroke\n",
       "count  5110.00 5110.00       5110.00        5110.00            5110.00 5110.00\n",
       "mean  36517.83   43.23          0.10           0.05             106.15    0.05\n",
       "std   21161.72   22.61          0.30           0.23              45.28    0.22\n",
       "min      67.00    0.08          0.00           0.00              55.12    0.00\n",
       "25%   17741.25   25.00          0.00           0.00              77.24    0.00\n",
       "50%   36932.00   45.00          0.00           0.00              91.88    0.00\n",
       "75%   54682.00   61.00          0.00           0.00             114.09    0.00\n",
       "max   72940.00   82.00          1.00           1.00             271.74    1.00"
      ]
     },
     "execution_count": 4,
     "metadata": {},
     "output_type": "execute_result"
    }
   ],
   "source": [
    "data.describe()"
   ]
  },
  {
   "cell_type": "code",
   "execution_count": 5,
   "metadata": {},
   "outputs": [
    {
     "name": "stdout",
     "output_type": "stream",
     "text": [
      "<class 'pandas.core.frame.DataFrame'>\n",
      "RangeIndex: 5110 entries, 0 to 5109\n",
      "Data columns (total 12 columns):\n",
      "id                   5110 non-null int64\n",
      "gender               5110 non-null object\n",
      "age                  5110 non-null float64\n",
      "hypertension         5110 non-null int64\n",
      "heart_disease        5110 non-null int64\n",
      "ever_married         5110 non-null bool\n",
      "work_type            5110 non-null object\n",
      "Residence_type       5110 non-null object\n",
      "avg_glucose_level    5110 non-null float64\n",
      "bmi                  5110 non-null object\n",
      "smoking_status       5110 non-null object\n",
      "stroke               5110 non-null int64\n",
      "dtypes: bool(1), float64(2), int64(4), object(5)\n",
      "memory usage: 444.3+ KB\n"
     ]
    }
   ],
   "source": [
    "data.info()"
   ]
  },
  {
   "cell_type": "code",
   "execution_count": 6,
   "metadata": {},
   "outputs": [
    {
     "name": "stdout",
     "output_type": "stream",
     "text": [
      "Workspace name: mlops-aml-ws-templateml\n",
      "Azure region: eastus\n",
      "Subscription id: fa3dfb7e-5583-41a5-b60c-022e3fcc2942\n",
      "Resource group: mlops-rg-templateml\n"
     ]
    }
   ],
   "source": [
    "experiment_name = 'automl-stroke-classification-experiment'\n",
    "\n",
    "experiment = Experiment(workspace, experiment_name)\n",
    "\n",
    "print('Workspace name: ' + workspace.name, \n",
    "      'Azure region: ' + workspace.location, \n",
    "      'Subscription id: ' + workspace.subscription_id, \n",
    "      'Resource group: ' + workspace.resource_group, sep = '\\n')\n",
    "\n",
    "run = experiment.start_logging()"
   ]
  },
  {
   "cell_type": "code",
   "execution_count": 7,
   "metadata": {},
   "outputs": [
    {
     "name": "stdout",
     "output_type": "stream",
     "text": [
      "Found existing cluster, use it.\n",
      "\n",
      "Running\n",
      "Cluster details:  {'errors': [], 'creationTime': '2021-02-25T14:58:59.139839+00:00', 'createdBy': {'userObjectId': 'c3dbd685-d45f-431b-b4a5-5c916d4fe4ac', 'userTenantId': '006c1e48-e342-47e9-ab5d-0dd9ff89bd96', 'userName': None}, 'modifiedTime': '2021-02-25T15:01:48.959845+00:00', 'state': 'Running', 'vmSize': 'STANDARD_DS3_V2'}\n"
     ]
    }
   ],
   "source": [
    "from azureml.core.compute import ComputeTarget, AmlCompute\n",
    "from azureml.core.compute_target import ComputeTargetException\n",
    "\n",
    "cpu_cluster_name = \"F-VM\"\n",
    "try:\n",
    "    cpu_cluster = ComputeTarget(workspace=workspace, name=cpu_cluster_name)\n",
    "    print('Found existing cluster, use it.')\n",
    "except ComputeTargetException:\n",
    "    compute_config = AmlCompute.provisioning_configuration(vm_size='STANDARD_D2_V2',\n",
    "                                                           max_nodes=4)\n",
    "    cpu_cluster = ComputeTarget.create(workspace, cpu_cluster_name, compute_config)\n",
    "\n",
    "cpu_cluster.wait_for_completion(show_output=True)\n",
    "print(\"Cluster details: \", cpu_cluster.get_status().serialize())"
   ]
  },
  {
   "cell_type": "markdown",
   "metadata": {},
   "source": [
    "# Analyse the data, transform and split the dataset to train and test sets"
   ]
  },
  {
   "cell_type": "code",
   "execution_count": 8,
   "metadata": {},
   "outputs": [],
   "source": [
    "#Functions to clean data\n",
    "def Impute_missing_values(df):\n",
    "    df.drop(columns=['id'],inplace=True)\n",
    "    \n",
    "    #fill na\n",
    "    df['age'].fillna(df['age'].median(), inplace=True)\n",
    "    df['hypertension'].fillna(df['hypertension'].median(), inplace=True)\n",
    "    df['heart_disease'].fillna(df['heart_disease'].median(), inplace=True)\n",
    "    df['avg_glucose_level'].fillna(df['avg_glucose_level'].median(), inplace=True)\n",
    "    \n",
    "    #non categorical data\n",
    "    from sklearn.preprocessing import OrdinalEncoder\n",
    "    ord_enc = OrdinalEncoder()\n",
    "    df[\"gender\"] = ord_enc.fit_transform(df[[\"gender\"]])\n",
    "    df[\"ever_married\"] = ord_enc.fit_transform(df[[\"ever_married\"]])\n",
    "    df[\"work_type\"] = ord_enc.fit_transform(df[[\"work_type\"]])\n",
    "    df[\"Residence_type\"] = ord_enc.fit_transform(df[[\"Residence_type\"]])\n",
    "    df[\"bmi\"] = ord_enc.fit_transform(df[[\"bmi\"]])\n",
    "    df[\"smoking_status\"] = ord_enc.fit_transform(df[[\"smoking_status\"]])\n",
    "    \n",
    "    return df\n",
    "\n",
    "def clean_data(df):\n",
    "    df = Impute_missing_values(df)\n",
    "    df.head()\n",
    "    x_df = df\n",
    "    y_df = x_df.pop(\"stroke\")\n",
    "    return x_df, y_df\n",
    "\n",
    "x, y = clean_data(data)"
   ]
  },
  {
   "cell_type": "code",
   "execution_count": 9,
   "metadata": {},
   "outputs": [],
   "source": [
    "x_train, x_test, y_train, y_test = train_test_split(x,y, test_size=0.2)"
   ]
  },
  {
   "cell_type": "code",
   "execution_count": 10,
   "metadata": {},
   "outputs": [
    {
     "name": "stdout",
     "output_type": "stream",
     "text": [
      "Uploading an estimated of 2 files\n",
      "Target already exists. Skipping upload for data/test.csv\n",
      "Target already exists. Skipping upload for data/train.csv\n",
      "Uploaded 0 files\n",
      "Successfully converted the dataset to TabularDataset format.\n"
     ]
    }
   ],
   "source": [
    "df_train = pd.concat([x_train,y_train], axis=1)\n",
    "df_test = pd.concat([x_test,y_test], axis=1)\n",
    "\n",
    "#Convert x_train and y_train (Which are in pandas DataFrame format) to TabularDataset format.\n",
    "try:\n",
    "    os.makedirs('./data', exist_ok=True)\n",
    "except OSError as error:\n",
    "    print('New directory cannot be created')\n",
    "    \n",
    "path_train = 'data/train.csv'\n",
    "path_test = 'data/test.csv'\n",
    "df_train.to_csv(path_train)\n",
    "df_test.to_csv(path_test)\n",
    "\n",
    "datastore = workspace.get_default_datastore()\n",
    "datastore.upload(src_dir='data', target_path='data')\n",
    "\n",
    "train_data = TabularDatasetFactory.from_delimited_files(path=[(datastore, ('data/train.csv'))])\n",
    "test_data = TabularDatasetFactory.from_delimited_files(path=[(datastore, ('data/test.csv'))])\n",
    "print(\"Successfully converted the dataset to TabularDataset format.\")\n"
   ]
  },
  {
   "cell_type": "markdown",
   "metadata": {},
   "source": [
    "## AutoML Configuration\n",
    "\n",
    "TODO: Explain why you chose the automl settings and cofiguration you used below."
   ]
  },
  {
   "cell_type": "code",
   "execution_count": 11,
   "metadata": {
    "gather": {
     "logged": 1598429217746
    },
    "jupyter": {
     "outputs_hidden": false,
     "source_hidden": false
    },
    "nteract": {
     "transient": {
      "deleting": false
     }
    }
   },
   "outputs": [],
   "source": [
    "from azureml.train.automl import AutoMLConfig\n",
    "\n",
    "#Set parameters for AutoMLConfig\n",
    "automl_config = AutoMLConfig(\n",
    "    experiment_timeout_minutes=30,\n",
    "    task=\"classification\",\n",
    "    primary_metric=\"accuracy\",\n",
    "    training_data=train_data,\n",
    "    label_column_name=\"stroke\",\n",
    "    n_cross_validations=5,\n",
    "    enable_onnx_compatible_models=True,\n",
    "    compute_target=cpu_cluster)"
   ]
  },
  {
   "cell_type": "code",
   "execution_count": 12,
   "metadata": {
    "gather": {
     "logged": 1598431107951
    },
    "jupyter": {
     "outputs_hidden": false,
     "source_hidden": false
    },
    "nteract": {
     "transient": {
      "deleting": false
     }
    }
   },
   "outputs": [
    {
     "name": "stdout",
     "output_type": "stream",
     "text": [
      "Running on remote.\n",
      "No run_configuration provided, running on F-VM with default configuration\n",
      "Running on remote compute: F-VM\n",
      "Parent Run ID: AutoML_3d077790-c191-4e70-92f9-555383579bac\n",
      "\n",
      "Current status: FeaturesGeneration. Generating features for the dataset.\n",
      "Current status: DatasetCrossValidationSplit. Generating individually featurized CV splits.\n",
      "Current status: ModelSelection. Beginning model selection.\n",
      "\n",
      "****************************************************************************************************\n",
      "DATA GUARDRAILS: \n",
      "\n",
      "TYPE:         Class balancing detection\n",
      "STATUS:       ALERTED\n",
      "DESCRIPTION:  To decrease model bias, please cancel the current run and fix balancing problem.\n",
      "              Learn more about imbalanced data: https://aka.ms/AutomatedMLImbalancedData\n",
      "DETAILS:      Imbalanced data can lead to a falsely perceived positive effect of a model's accuracy because the input data has bias towards one class.\n",
      "+---------------------------------+---------------------------------+--------------------------------------+\n",
      "|Size of the smallest class       |Name/Label of the smallest class |Number of samples in the training data|\n",
      "+=================================+=================================+======================================+\n",
      "|197                              |1                                |4088                                  |\n",
      "+---------------------------------+---------------------------------+--------------------------------------+\n",
      "\n",
      "****************************************************************************************************\n",
      "\n",
      "TYPE:         Missing feature values imputation\n",
      "STATUS:       PASSED\n",
      "DESCRIPTION:  No feature missing values were detected in the training data.\n",
      "              Learn more about missing value imputation: https://aka.ms/AutomatedMLFeaturization\n",
      "\n",
      "****************************************************************************************************\n",
      "\n",
      "TYPE:         High cardinality feature detection\n",
      "STATUS:       PASSED\n",
      "DESCRIPTION:  Your inputs were analyzed, and no high cardinality features were detected.\n",
      "              Learn more about high cardinality feature handling: https://aka.ms/AutomatedMLFeaturization\n",
      "\n",
      "****************************************************************************************************\n",
      "\n",
      "****************************************************************************************************\n",
      "ITERATION: The iteration being evaluated.\n",
      "PIPELINE: A summary description of the pipeline being evaluated.\n",
      "DURATION: Time taken for the current iteration.\n",
      "METRIC: The result of computing score on the fitted pipeline.\n",
      "BEST: The best observed score thus far.\n",
      "****************************************************************************************************\n",
      "\n",
      " ITERATION   PIPELINE                                       DURATION      METRIC      BEST\n",
      "         0   MaxAbsScaler LightGBM                          0:02:31       0.9983    0.9983\n",
      "         1   MaxAbsScaler XGBoostClassifier                 0:00:53       0.9995    0.9995\n",
      "         2   MinMaxScaler RandomForest                      0:00:56       0.9932    0.9995\n",
      "         3   MinMaxScaler RandomForest                      0:00:54       0.9530    0.9995\n",
      "         4   MinMaxScaler RandomForest                      0:00:52       0.9983    0.9995\n",
      "         5   MinMaxScaler SVM                               0:00:52       0.9880    0.9995\n",
      "         6   RobustScaler RandomForest                      0:00:57       0.9998    0.9998\n",
      "         7   StandardScalerWrapper XGBoostClassifier        0:02:31       0.9985    0.9998\n",
      "         8   RobustScaler LightGBM                          0:00:56       0.9990    0.9998\n",
      "         9   SparseNormalizer XGBoostClassifier             0:00:54       0.9939    0.9998\n",
      "        10   TruncatedSVDWrapper XGBoostClassifier          0:02:34       0.9973    0.9998\n",
      "        11   StandardScalerWrapper LightGBM                 0:00:58       0.9699    0.9998\n",
      "        12   RobustScaler ExtremeRandomTrees                0:00:54       0.9518    0.9998\n",
      "        13   SparseNormalizer XGBoostClassifier             0:00:57       0.9961    0.9998\n",
      "        14   StandardScalerWrapper LogisticRegression       0:02:33       0.9799    0.9998\n",
      "        15   StandardScalerWrapper XGBoostClassifier        0:00:53       1.0000    1.0000\n",
      "        16   SparseNormalizer XGBoostClassifier             0:01:01       0.9976    1.0000\n",
      "        17   StandardScalerWrapper XGBoostClassifier        0:02:36       0.9995    1.0000\n",
      "        18   MinMaxScaler LightGBM                          0:00:56       0.9978    1.0000\n",
      "        19   StandardScalerWrapper LightGBM                 0:00:56       0.9978    1.0000\n",
      "        20    VotingEnsemble                                0:02:34       1.0000    1.0000\n"
     ]
    }
   ],
   "source": [
    "# TODO: Submit your experiment\n",
    "remote_run = experiment.submit(automl_config, show_output=True)"
   ]
  },
  {
   "cell_type": "markdown",
   "metadata": {},
   "source": [
    "## Run Details\n",
    "\n",
    "OPTIONAL: Write about the different models trained and their performance. Why do you think some models did better than others?\n",
    "\n",
    "TODO: In the cell below, use the `RunDetails` widget to show the different experiments."
   ]
  },
  {
   "cell_type": "code",
   "execution_count": 13,
   "metadata": {
    "gather": {
     "logged": 1598431121770
    },
    "jupyter": {
     "outputs_hidden": false,
     "source_hidden": false
    },
    "nteract": {
     "transient": {
      "deleting": false
     }
    }
   },
   "outputs": [
    {
     "data": {
      "application/vnd.jupyter.widget-view+json": {
       "model_id": "9e8c2a3239bb451fa3d0d59ac9364495",
       "version_major": 2,
       "version_minor": 0
      },
      "text/plain": [
       "_AutoMLWidget(widget_settings={'childWidgetDisplay': 'popup', 'send_telemetry': False, 'log_level': 'INFO', 's…"
      ]
     },
     "metadata": {},
     "output_type": "display_data"
    },
    {
     "data": {
      "application/aml.mini.widget.v1": "{\"status\": \"Completed\", \"workbench_run_details_uri\": \"https://ml.azure.com/experiments/automl-stroke-classification-experiment/runs/AutoML_3d077790-c191-4e70-92f9-555383579bac?wsid=/subscriptions/fa3dfb7e-5583-41a5-b60c-022e3fcc2942/resourcegroups/mlops-rg-templateml/workspaces/mlops-aml-ws-templateml\", \"run_id\": \"AutoML_3d077790-c191-4e70-92f9-555383579bac\", \"run_properties\": {\"run_id\": \"AutoML_3d077790-c191-4e70-92f9-555383579bac\", \"created_utc\": \"2021-04-28T13:00:51.050476Z\", \"properties\": {\"num_iterations\": \"1000\", \"training_type\": \"TrainFull\", \"acquisition_function\": \"EI\", \"primary_metric\": \"accuracy\", \"train_split\": \"0\", \"acquisition_parameter\": \"0\", \"num_cross_validation\": \"5\", \"target\": \"F-VM\", \"AMLSettingsJsonString\": \"{\\\"path\\\":null,\\\"name\\\":\\\"automl-stroke-classification-experiment\\\",\\\"subscription_id\\\":\\\"fa3dfb7e-5583-41a5-b60c-022e3fcc2942\\\",\\\"resource_group\\\":\\\"mlops-rg-templateml\\\",\\\"workspace_name\\\":\\\"mlops-aml-ws-templateml\\\",\\\"region\\\":\\\"eastus\\\",\\\"compute_target\\\":\\\"F-VM\\\",\\\"spark_service\\\":null,\\\"azure_service\\\":\\\"remote\\\",\\\"many_models\\\":false,\\\"pipeline_fetch_max_batch_size\\\":1,\\\"iterations\\\":1000,\\\"primary_metric\\\":\\\"accuracy\\\",\\\"task_type\\\":\\\"classification\\\",\\\"data_script\\\":null,\\\"validation_size\\\":0.0,\\\"n_cross_validations\\\":5,\\\"y_min\\\":null,\\\"y_max\\\":null,\\\"num_classes\\\":null,\\\"featurization\\\":\\\"auto\\\",\\\"_ignore_package_version_incompatibilities\\\":false,\\\"is_timeseries\\\":false,\\\"max_cores_per_iteration\\\":1,\\\"max_concurrent_iterations\\\":1,\\\"iteration_timeout_minutes\\\":null,\\\"mem_in_mb\\\":null,\\\"enforce_time_on_windows\\\":false,\\\"experiment_timeout_minutes\\\":30,\\\"experiment_exit_score\\\":null,\\\"whitelist_models\\\":null,\\\"blacklist_algos\\\":[\\\"TensorFlowLinearClassifier\\\",\\\"TensorFlowDNN\\\"],\\\"supported_models\\\":[\\\"SGD\\\",\\\"BernoulliNaiveBayes\\\",\\\"LightGBM\\\",\\\"AveragedPerceptronClassifier\\\",\\\"LogisticRegression\\\",\\\"TensorFlowDNN\\\",\\\"ExtremeRandomTrees\\\",\\\"SVM\\\",\\\"DecisionTree\\\",\\\"XGBoostClassifier\\\",\\\"LinearSVM\\\",\\\"GradientBoosting\\\",\\\"TensorFlowLinearClassifier\\\",\\\"RandomForest\\\",\\\"MultinomialNaiveBayes\\\",\\\"KNN\\\"],\\\"private_models\\\":[],\\\"auto_blacklist\\\":true,\\\"blacklist_samples_reached\\\":false,\\\"exclude_nan_labels\\\":true,\\\"verbosity\\\":20,\\\"_debug_log\\\":\\\"azureml_automl.log\\\",\\\"show_warnings\\\":false,\\\"model_explainability\\\":true,\\\"service_url\\\":null,\\\"sdk_url\\\":null,\\\"sdk_packages\\\":null,\\\"enable_onnx_compatible_models\\\":true,\\\"enable_split_onnx_featurizer_estimator_models\\\":false,\\\"vm_type\\\":\\\"STANDARD_DS3_V2\\\",\\\"telemetry_verbosity\\\":20,\\\"send_telemetry\\\":true,\\\"enable_dnn\\\":false,\\\"scenario\\\":\\\"SDK-1.13.0\\\",\\\"environment_label\\\":null,\\\"force_text_dnn\\\":false,\\\"enable_feature_sweeping\\\":false,\\\"enable_early_stopping\\\":false,\\\"early_stopping_n_iters\\\":10,\\\"metrics\\\":null,\\\"enable_ensembling\\\":true,\\\"enable_stack_ensembling\\\":false,\\\"ensemble_iterations\\\":15,\\\"enable_tf\\\":false,\\\"enable_subsampling\\\":null,\\\"subsample_seed\\\":null,\\\"enable_nimbusml\\\":false,\\\"enable_streaming\\\":false,\\\"force_streaming\\\":false,\\\"track_child_runs\\\":true,\\\"allowed_private_models\\\":[],\\\"label_column_name\\\":\\\"stroke\\\",\\\"weight_column_name\\\":null,\\\"cv_split_column_names\\\":null,\\\"enable_local_managed\\\":false,\\\"_local_managed_run_id\\\":null,\\\"cost_mode\\\":1,\\\"lag_length\\\":0,\\\"metric_operation\\\":\\\"maximize\\\",\\\"preprocess\\\":true}\", \"DataPrepJsonString\": \"{\\\\\\\"training_data\\\\\\\": \\\\\\\"{\\\\\\\\\\\\\\\"blocks\\\\\\\\\\\\\\\": [{\\\\\\\\\\\\\\\"id\\\\\\\\\\\\\\\": \\\\\\\\\\\\\\\"479837d4-36a4-4fe4-8951-fb527664c168\\\\\\\\\\\\\\\", \\\\\\\\\\\\\\\"type\\\\\\\\\\\\\\\": \\\\\\\\\\\\\\\"Microsoft.DPrep.GetDatastoreFilesBlock\\\\\\\\\\\\\\\", \\\\\\\\\\\\\\\"arguments\\\\\\\\\\\\\\\": {\\\\\\\\\\\\\\\"datastores\\\\\\\\\\\\\\\": [{\\\\\\\\\\\\\\\"datastoreName\\\\\\\\\\\\\\\": \\\\\\\\\\\\\\\"workspaceblobstore\\\\\\\\\\\\\\\", \\\\\\\\\\\\\\\"path\\\\\\\\\\\\\\\": \\\\\\\\\\\\\\\"data/train.csv\\\\\\\\\\\\\\\", \\\\\\\\\\\\\\\"resourceGroup\\\\\\\\\\\\\\\": \\\\\\\\\\\\\\\"mlops-rg-templateml\\\\\\\\\\\\\\\", \\\\\\\\\\\\\\\"subscription\\\\\\\\\\\\\\\": \\\\\\\\\\\\\\\"fa3dfb7e-5583-41a5-b60c-022e3fcc2942\\\\\\\\\\\\\\\", \\\\\\\\\\\\\\\"workspaceName\\\\\\\\\\\\\\\": \\\\\\\\\\\\\\\"mlops-aml-ws-templateml\\\\\\\\\\\\\\\"}]}, \\\\\\\\\\\\\\\"localData\\\\\\\\\\\\\\\": {}, \\\\\\\\\\\\\\\"isEnabled\\\\\\\\\\\\\\\": true, \\\\\\\\\\\\\\\"name\\\\\\\\\\\\\\\": null, \\\\\\\\\\\\\\\"annotation\\\\\\\\\\\\\\\": null}, {\\\\\\\\\\\\\\\"id\\\\\\\\\\\\\\\": \\\\\\\\\\\\\\\"e92b5ef0-cded-4524-9fc5-95cf8c282c88\\\\\\\\\\\\\\\", \\\\\\\\\\\\\\\"type\\\\\\\\\\\\\\\": \\\\\\\\\\\\\\\"Microsoft.DPrep.ParseDelimitedBlock\\\\\\\\\\\\\\\", \\\\\\\\\\\\\\\"arguments\\\\\\\\\\\\\\\": {\\\\\\\\\\\\\\\"columnHeadersMode\\\\\\\\\\\\\\\": 3, \\\\\\\\\\\\\\\"fileEncoding\\\\\\\\\\\\\\\": 0, \\\\\\\\\\\\\\\"handleQuotedLineBreaks\\\\\\\\\\\\\\\": false, \\\\\\\\\\\\\\\"preview\\\\\\\\\\\\\\\": false, \\\\\\\\\\\\\\\"separator\\\\\\\\\\\\\\\": \\\\\\\\\\\\\\\",\\\\\\\\\\\\\\\", \\\\\\\\\\\\\\\"skipRows\\\\\\\\\\\\\\\": 0, \\\\\\\\\\\\\\\"skipRowsMode\\\\\\\\\\\\\\\": 0}, \\\\\\\\\\\\\\\"localData\\\\\\\\\\\\\\\": {}, \\\\\\\\\\\\\\\"isEnabled\\\\\\\\\\\\\\\": true, \\\\\\\\\\\\\\\"name\\\\\\\\\\\\\\\": null, \\\\\\\\\\\\\\\"annotation\\\\\\\\\\\\\\\": null}, {\\\\\\\\\\\\\\\"id\\\\\\\\\\\\\\\": \\\\\\\\\\\\\\\"65b89c02-437f-4ff5-b03f-f07c10610c78\\\\\\\\\\\\\\\", \\\\\\\\\\\\\\\"type\\\\\\\\\\\\\\\": \\\\\\\\\\\\\\\"Microsoft.DPrep.DropColumnsBlock\\\\\\\\\\\\\\\", \\\\\\\\\\\\\\\"arguments\\\\\\\\\\\\\\\": {\\\\\\\\\\\\\\\"columns\\\\\\\\\\\\\\\": {\\\\\\\\\\\\\\\"type\\\\\\\\\\\\\\\": 0, \\\\\\\\\\\\\\\"details\\\\\\\\\\\\\\\": {\\\\\\\\\\\\\\\"selectedColumns\\\\\\\\\\\\\\\": [\\\\\\\\\\\\\\\"Path\\\\\\\\\\\\\\\"]}}}, \\\\\\\\\\\\\\\"localData\\\\\\\\\\\\\\\": {}, \\\\\\\\\\\\\\\"isEnabled\\\\\\\\\\\\\\\": true, \\\\\\\\\\\\\\\"name\\\\\\\\\\\\\\\": null, \\\\\\\\\\\\\\\"annotation\\\\\\\\\\\\\\\": null}, {\\\\\\\\\\\\\\\"id\\\\\\\\\\\\\\\": \\\\\\\\\\\\\\\"fa28eddc-124b-4487-aa29-a8e4428da410\\\\\\\\\\\\\\\", \\\\\\\\\\\\\\\"type\\\\\\\\\\\\\\\": \\\\\\\\\\\\\\\"Microsoft.DPrep.SetColumnTypesBlock\\\\\\\\\\\\\\\", \\\\\\\\\\\\\\\"arguments\\\\\\\\\\\\\\\": {\\\\\\\\\\\\\\\"columnConversion\\\\\\\\\\\\\\\": [{\\\\\\\\\\\\\\\"column\\\\\\\\\\\\\\\": {\\\\\\\\\\\\\\\"type\\\\\\\\\\\\\\\": 2, \\\\\\\\\\\\\\\"details\\\\\\\\\\\\\\\": {\\\\\\\\\\\\\\\"selectedColumn\\\\\\\\\\\\\\\": \\\\\\\\\\\\\\\"Column1\\\\\\\\\\\\\\\"}}, \\\\\\\\\\\\\\\"typeProperty\\\\\\\\\\\\\\\": 2}, {\\\\\\\\\\\\\\\"column\\\\\\\\\\\\\\\": {\\\\\\\\\\\\\\\"type\\\\\\\\\\\\\\\": 2, \\\\\\\\\\\\\\\"details\\\\\\\\\\\\\\\": {\\\\\\\\\\\\\\\"selectedColumn\\\\\\\\\\\\\\\": \\\\\\\\\\\\\\\"gender\\\\\\\\\\\\\\\"}}, \\\\\\\\\\\\\\\"typeProperty\\\\\\\\\\\\\\\": 3}, {\\\\\\\\\\\\\\\"column\\\\\\\\\\\\\\\": {\\\\\\\\\\\\\\\"type\\\\\\\\\\\\\\\": 2, \\\\\\\\\\\\\\\"details\\\\\\\\\\\\\\\": {\\\\\\\\\\\\\\\"selectedColumn\\\\\\\\\\\\\\\": \\\\\\\\\\\\\\\"age\\\\\\\\\\\\\\\"}}, \\\\\\\\\\\\\\\"typeProperty\\\\\\\\\\\\\\\": 3}, {\\\\\\\\\\\\\\\"column\\\\\\\\\\\\\\\": {\\\\\\\\\\\\\\\"type\\\\\\\\\\\\\\\": 2, \\\\\\\\\\\\\\\"details\\\\\\\\\\\\\\\": {\\\\\\\\\\\\\\\"selectedColumn\\\\\\\\\\\\\\\": \\\\\\\\\\\\\\\"hypertension\\\\\\\\\\\\\\\"}}, \\\\\\\\\\\\\\\"typeProperty\\\\\\\\\\\\\\\": 2}, {\\\\\\\\\\\\\\\"column\\\\\\\\\\\\\\\": {\\\\\\\\\\\\\\\"type\\\\\\\\\\\\\\\": 2, \\\\\\\\\\\\\\\"details\\\\\\\\\\\\\\\": {\\\\\\\\\\\\\\\"selectedColumn\\\\\\\\\\\\\\\": \\\\\\\\\\\\\\\"heart_disease\\\\\\\\\\\\\\\"}}, \\\\\\\\\\\\\\\"typeProperty\\\\\\\\\\\\\\\": 2}, {\\\\\\\\\\\\\\\"column\\\\\\\\\\\\\\\": {\\\\\\\\\\\\\\\"type\\\\\\\\\\\\\\\": 2, \\\\\\\\\\\\\\\"details\\\\\\\\\\\\\\\": {\\\\\\\\\\\\\\\"selectedColumn\\\\\\\\\\\\\\\": \\\\\\\\\\\\\\\"ever_married\\\\\\\\\\\\\\\"}}, \\\\\\\\\\\\\\\"typeProperty\\\\\\\\\\\\\\\": 3}, {\\\\\\\\\\\\\\\"column\\\\\\\\\\\\\\\": {\\\\\\\\\\\\\\\"type\\\\\\\\\\\\\\\": 2, \\\\\\\\\\\\\\\"details\\\\\\\\\\\\\\\": {\\\\\\\\\\\\\\\"selectedColumn\\\\\\\\\\\\\\\": \\\\\\\\\\\\\\\"work_type\\\\\\\\\\\\\\\"}}, \\\\\\\\\\\\\\\"typeProperty\\\\\\\\\\\\\\\": 3}, {\\\\\\\\\\\\\\\"column\\\\\\\\\\\\\\\": {\\\\\\\\\\\\\\\"type\\\\\\\\\\\\\\\": 2, \\\\\\\\\\\\\\\"details\\\\\\\\\\\\\\\": {\\\\\\\\\\\\\\\"selectedColumn\\\\\\\\\\\\\\\": \\\\\\\\\\\\\\\"Residence_type\\\\\\\\\\\\\\\"}}, \\\\\\\\\\\\\\\"typeProperty\\\\\\\\\\\\\\\": 3}, {\\\\\\\\\\\\\\\"column\\\\\\\\\\\\\\\": {\\\\\\\\\\\\\\\"type\\\\\\\\\\\\\\\": 2, \\\\\\\\\\\\\\\"details\\\\\\\\\\\\\\\": {\\\\\\\\\\\\\\\"selectedColumn\\\\\\\\\\\\\\\": \\\\\\\\\\\\\\\"avg_glucose_level\\\\\\\\\\\\\\\"}}, \\\\\\\\\\\\\\\"typeProperty\\\\\\\\\\\\\\\": 3}, {\\\\\\\\\\\\\\\"column\\\\\\\\\\\\\\\": {\\\\\\\\\\\\\\\"type\\\\\\\\\\\\\\\": 2, \\\\\\\\\\\\\\\"details\\\\\\\\\\\\\\\": {\\\\\\\\\\\\\\\"selectedColumn\\\\\\\\\\\\\\\": \\\\\\\\\\\\\\\"bmi\\\\\\\\\\\\\\\"}}, \\\\\\\\\\\\\\\"typeProperty\\\\\\\\\\\\\\\": 3}, {\\\\\\\\\\\\\\\"column\\\\\\\\\\\\\\\": {\\\\\\\\\\\\\\\"type\\\\\\\\\\\\\\\": 2, \\\\\\\\\\\\\\\"details\\\\\\\\\\\\\\\": {\\\\\\\\\\\\\\\"selectedColumn\\\\\\\\\\\\\\\": \\\\\\\\\\\\\\\"smoking_status\\\\\\\\\\\\\\\"}}, \\\\\\\\\\\\\\\"typeProperty\\\\\\\\\\\\\\\": 3}, {\\\\\\\\\\\\\\\"column\\\\\\\\\\\\\\\": {\\\\\\\\\\\\\\\"type\\\\\\\\\\\\\\\": 2, \\\\\\\\\\\\\\\"details\\\\\\\\\\\\\\\": {\\\\\\\\\\\\\\\"selectedColumn\\\\\\\\\\\\\\\": \\\\\\\\\\\\\\\"stroke\\\\\\\\\\\\\\\"}}, \\\\\\\\\\\\\\\"typeProperty\\\\\\\\\\\\\\\": 2}]}, \\\\\\\\\\\\\\\"localData\\\\\\\\\\\\\\\": {}, \\\\\\\\\\\\\\\"isEnabled\\\\\\\\\\\\\\\": true, \\\\\\\\\\\\\\\"name\\\\\\\\\\\\\\\": null, \\\\\\\\\\\\\\\"annotation\\\\\\\\\\\\\\\": null}], \\\\\\\\\\\\\\\"inspectors\\\\\\\\\\\\\\\": [], \\\\\\\\\\\\\\\"meta\\\\\\\\\\\\\\\": {\\\\\\\\\\\\\\\"savedDatasetId\\\\\\\\\\\\\\\": \\\\\\\\\\\\\\\"fae984ea-09d6-45f9-bc7c-4f0f83f6088d\\\\\\\\\\\\\\\", \\\\\\\\\\\\\\\"datasetType\\\\\\\\\\\\\\\": \\\\\\\\\\\\\\\"tabular\\\\\\\\\\\\\\\", \\\\\\\\\\\\\\\"subscriptionId\\\\\\\\\\\\\\\": \\\\\\\\\\\\\\\"fa3dfb7e-5583-41a5-b60c-022e3fcc2942\\\\\\\\\\\\\\\", \\\\\\\\\\\\\\\"workspaceId\\\\\\\\\\\\\\\": \\\\\\\\\\\\\\\"abf3fd6e-9136-4a11-b631-c064ce20d719\\\\\\\\\\\\\\\", \\\\\\\\\\\\\\\"workspaceLocation\\\\\\\\\\\\\\\": \\\\\\\\\\\\\\\"eastus\\\\\\\\\\\\\\\"}}\\\\\\\", \\\\\\\"activities\\\\\\\": 0}\", \"EnableSubsampling\": null, \"runTemplate\": \"AutoML\", \"azureml.runsource\": \"automl\", \"display_task_type\": \"classification\", \"dependencies_versions\": \"{\\\"azureml-widgets\\\": \\\"1.22.0\\\", \\\"azureml-train\\\": \\\"1.22.0\\\", \\\"azureml-train-restclients-hyperdrive\\\": \\\"1.22.0\\\", \\\"azureml-train-core\\\": \\\"1.22.0\\\", \\\"azureml-train-automl\\\": \\\"1.22.0\\\", \\\"azureml-train-automl-runtime\\\": \\\"1.22.0\\\", \\\"azureml-train-automl-client\\\": \\\"1.22.0\\\", \\\"azureml-tensorboard\\\": \\\"1.22.0\\\", \\\"azureml-telemetry\\\": \\\"1.22.0\\\", \\\"azureml-sdk\\\": \\\"1.22.0\\\", \\\"azureml-samples\\\": \\\"0+unknown\\\", \\\"azureml-pipeline\\\": \\\"1.22.0\\\", \\\"azureml-pipeline-steps\\\": \\\"1.22.0\\\", \\\"azureml-pipeline-core\\\": \\\"1.22.0\\\", \\\"azureml-opendatasets\\\": \\\"1.22.0\\\", \\\"azureml-model-management-sdk\\\": \\\"1.0.1b6.post1\\\", \\\"azureml-mlflow\\\": \\\"1.22.0\\\", \\\"azureml-interpret\\\": \\\"1.22.0\\\", \\\"azureml-explain-model\\\": \\\"1.22.0\\\", \\\"azureml-defaults\\\": \\\"1.22.0\\\", \\\"azureml-dataset-runtime\\\": \\\"1.22.0\\\", \\\"azureml-dataprep\\\": \\\"2.9.1\\\", \\\"azureml-dataprep-rslex\\\": \\\"1.7.0\\\", \\\"azureml-dataprep-native\\\": \\\"29.0.0\\\", \\\"azureml-datadrift\\\": \\\"1.22.0\\\", \\\"azureml-core\\\": \\\"1.22.0\\\", \\\"azureml-contrib-services\\\": \\\"1.22.0\\\", \\\"azureml-contrib-server\\\": \\\"1.22.0\\\", \\\"azureml-contrib-reinforcementlearning\\\": \\\"1.22.0\\\", \\\"azureml-contrib-pipeline-steps\\\": \\\"1.22.0\\\", \\\"azureml-contrib-notebook\\\": \\\"1.22.0\\\", \\\"azureml-contrib-interpret\\\": \\\"1.22.0\\\", \\\"azureml-contrib-gbdt\\\": \\\"1.22.0\\\", \\\"azureml-contrib-fairness\\\": \\\"1.22.0\\\", \\\"azureml-contrib-dataset\\\": \\\"1.22.0\\\", \\\"azureml-cli-common\\\": \\\"1.22.0\\\", \\\"azureml-automl-runtime\\\": \\\"1.22.0\\\", \\\"azureml-automl-core\\\": \\\"1.22.0\\\", \\\"azureml-accel-models\\\": \\\"1.22.0\\\"}\", \"_aml_system_scenario_identification\": \"Remote.Parent\", \"ClientType\": \"SDK\", \"environment_cpu_name\": \"AzureML-AutoML\", \"environment_cpu_label\": \"prod\", \"environment_gpu_name\": \"AzureML-AutoML-GPU\", \"environment_gpu_label\": \"prod\", \"root_attribution\": \"automl\", \"attribution\": \"AutoML\", \"Orchestrator\": \"AutoML\", \"CancelUri\": \"https://eastus.api.azureml.ms/jasmine/v1.0/subscriptions/fa3dfb7e-5583-41a5-b60c-022e3fcc2942/resourceGroups/mlops-rg-templateml/providers/Microsoft.MachineLearningServices/workspaces/mlops-aml-ws-templateml/experimentids/d712990e-3b29-4dbe-9fe9-3682bb4d6477/cancel/AutoML_3d077790-c191-4e70-92f9-555383579bac\", \"ClientSdkVersion\": \"1.27.0.post1\", \"snapshotId\": \"00000000-0000-0000-0000-000000000000\", \"SetupRunId\": \"AutoML_3d077790-c191-4e70-92f9-555383579bac_setup\", \"SetupRunContainerId\": \"dcid.AutoML_3d077790-c191-4e70-92f9-555383579bac_setup\", \"FeaturizationRunJsonPath\": \"featurizer_container.json\", \"FeaturizationRunId\": \"AutoML_3d077790-c191-4e70-92f9-555383579bac_featurize\", \"ProblemInfoJsonString\": \"{\\\"dataset_num_categorical\\\": 0, \\\"is_sparse\\\": false, \\\"subsampling\\\": false, \\\"dataset_classes\\\": 2, \\\"dataset_features\\\": 11, \\\"dataset_samples\\\": 4088, \\\"single_frequency_class_detected\\\": false}\", \"ModelExplainRunId\": \"AutoML_3d077790-c191-4e70-92f9-555383579bac_ModelExplain\"}, \"tags\": {\"model_explain_run\": \"best_run\", \"_aml_system_azureml.automlComponent\": \"AutoML\", \"pipeline_id\": \"\", \"score\": \"\", \"predicted_cost\": \"\", \"fit_time\": \"\", \"training_percent\": \"\", \"iteration\": \"\", \"run_preprocessor\": \"\", \"run_algorithm\": \"\", \"automl_best_child_run_id\": \"AutoML_3d077790-c191-4e70-92f9-555383579bac_15\", \"model_explain_best_run_child_id\": \"AutoML_3d077790-c191-4e70-92f9-555383579bac_15\"}, \"end_time_utc\": \"2021-04-28T13:38:43.338947Z\", \"status\": \"Completed\", \"log_files\": {}, \"log_groups\": [], \"run_duration\": \"0:37:52\", \"run_number\": \"31\", \"run_queued_details\": {\"status\": \"Completed\", \"details\": null}}, \"child_runs\": [{\"run_id\": \"AutoML_3d077790-c191-4e70-92f9-555383579bac_0\", \"run_number\": 35, \"metric\": null, \"status\": \"Completed\", \"run_type\": \"azureml.scriptrun\", \"training_percent\": \"100\", \"start_time\": \"2021-04-28T13:05:13.130083Z\", \"end_time\": \"2021-04-28T13:07:44.334661Z\", \"created_time\": \"2021-04-28T13:05:05.539091Z\", \"created_time_dt\": \"2021-04-28T13:05:05.539091Z\", \"duration\": \"0:02:38\", \"iteration\": \"0\", \"goal\": \"accuracy_max\", \"run_name\": \"MaxAbsScaler, LightGBM\", \"run_properties\": \"copy=True\", \"primary_metric\": 0.99828701, \"best_metric\": 0.99828701}, {\"run_id\": \"AutoML_3d077790-c191-4e70-92f9-555383579bac_1\", \"run_number\": 36, \"metric\": null, \"status\": \"Completed\", \"run_type\": \"azureml.scriptrun\", \"training_percent\": \"100\", \"start_time\": \"2021-04-28T13:07:53.013729Z\", \"end_time\": \"2021-04-28T13:08:45.718816Z\", \"created_time\": \"2021-04-28T13:07:45.337069Z\", \"created_time_dt\": \"2021-04-28T13:07:45.337069Z\", \"duration\": \"0:01:00\", \"iteration\": \"1\", \"goal\": \"accuracy_max\", \"run_name\": \"MaxAbsScaler, XGBoostClassifier\", \"run_properties\": \"copy=True\", \"primary_metric\": 0.999511, \"best_metric\": 0.999511}, {\"run_id\": \"AutoML_3d077790-c191-4e70-92f9-555383579bac_2\", \"run_number\": 37, \"metric\": null, \"status\": \"Completed\", \"run_type\": \"azureml.scriptrun\", \"training_percent\": \"100\", \"start_time\": \"2021-04-28T13:08:58.580387Z\", \"end_time\": \"2021-04-28T13:09:54.284743Z\", \"created_time\": \"2021-04-28T13:08:46.881675Z\", \"created_time_dt\": \"2021-04-28T13:08:46.881675Z\", \"duration\": \"0:01:07\", \"iteration\": \"2\", \"goal\": \"accuracy_max\", \"run_name\": \"MinMaxScaler, RandomForest\", \"run_properties\": \"copy=True, feature_range=(0, 1\", \"primary_metric\": 0.99315014, \"best_metric\": 0.999511}, {\"run_id\": \"AutoML_3d077790-c191-4e70-92f9-555383579bac_3\", \"run_number\": 38, \"metric\": null, \"status\": \"Completed\", \"run_type\": \"azureml.scriptrun\", \"training_percent\": \"100\", \"start_time\": \"2021-04-28T13:10:07.257359Z\", \"end_time\": \"2021-04-28T13:11:01.047386Z\", \"created_time\": \"2021-04-28T13:09:56.587506Z\", \"created_time_dt\": \"2021-04-28T13:09:56.587506Z\", \"duration\": \"0:01:04\", \"iteration\": \"3\", \"goal\": \"accuracy_max\", \"run_name\": \"MinMaxScaler, RandomForest\", \"run_properties\": \"copy=True, feature_range=(0, 1\", \"primary_metric\": 0.9530299, \"best_metric\": 0.999511}, {\"run_id\": \"AutoML_3d077790-c191-4e70-92f9-555383579bac_4\", \"run_number\": 39, \"metric\": null, \"status\": \"Completed\", \"run_type\": \"azureml.scriptrun\", \"training_percent\": \"100\", \"start_time\": \"2021-04-28T13:11:17.059254Z\", \"end_time\": \"2021-04-28T13:12:09.217131Z\", \"created_time\": \"2021-04-28T13:11:03.075082Z\", \"created_time_dt\": \"2021-04-28T13:11:03.075082Z\", \"duration\": \"0:01:06\", \"iteration\": \"4\", \"goal\": \"accuracy_max\", \"run_name\": \"MinMaxScaler, RandomForest\", \"run_properties\": \"copy=True, feature_range=(0, 1\", \"primary_metric\": 0.99828851, \"best_metric\": 0.999511}, {\"run_id\": \"AutoML_3d077790-c191-4e70-92f9-555383579bac_5\", \"run_number\": 40, \"metric\": null, \"status\": \"Completed\", \"run_type\": \"azureml.scriptrun\", \"training_percent\": \"100\", \"start_time\": \"2021-04-28T13:12:25.743091Z\", \"end_time\": \"2021-04-28T13:13:17.915632Z\", \"created_time\": \"2021-04-28T13:12:10.959285Z\", \"created_time_dt\": \"2021-04-28T13:12:10.959285Z\", \"duration\": \"0:01:06\", \"iteration\": \"5\", \"goal\": \"accuracy_max\", \"run_name\": \"MinMaxScaler, SVM\", \"run_properties\": \"copy=True, feature_range=(0, 1\", \"primary_metric\": 0.98801417, \"best_metric\": 0.999511}, {\"run_id\": \"AutoML_3d077790-c191-4e70-92f9-555383579bac_6\", \"run_number\": 41, \"metric\": null, \"status\": \"Completed\", \"run_type\": \"azureml.scriptrun\", \"training_percent\": \"100\", \"start_time\": \"2021-04-28T13:13:31.707944Z\", \"end_time\": \"2021-04-28T13:14:29.065158Z\", \"created_time\": \"2021-04-28T13:13:19.920382Z\", \"created_time_dt\": \"2021-04-28T13:13:19.920382Z\", \"duration\": \"0:01:09\", \"iteration\": \"6\", \"goal\": \"accuracy_max\", \"run_name\": \"RobustScaler, RandomForest\", \"run_properties\": \"copy=True, quantile_range=[10, 90], with_centering=True,\\n             with_scaling=True\", \"primary_metric\": 0.9997555, \"best_metric\": 0.9997555}, {\"run_id\": \"AutoML_3d077790-c191-4e70-92f9-555383579bac_7\", \"run_number\": 42, \"metric\": null, \"status\": \"Completed\", \"run_type\": \"azureml.scriptrun\", \"training_percent\": \"100\", \"start_time\": \"2021-04-28T13:14:38.652053Z\", \"end_time\": \"2021-04-28T13:17:09.891Z\", \"created_time\": \"2021-04-28T13:14:30.929196Z\", \"created_time_dt\": \"2021-04-28T13:14:30.929196Z\", \"duration\": \"0:02:38\", \"iteration\": \"7\", \"goal\": \"accuracy_max\", \"run_name\": \"StandardScalerWrapper, XGBoostClassifier\", \"run_properties\": \"<azureml.automl.runtime.shared.model_wrappers.StandardScalerWrapper object at 0x7f0e05827048\", \"primary_metric\": 0.99853121, \"best_metric\": 0.9997555}, {\"run_id\": \"AutoML_3d077790-c191-4e70-92f9-555383579bac_8\", \"run_number\": 43, \"metric\": null, \"status\": \"Completed\", \"run_type\": \"azureml.scriptrun\", \"training_percent\": \"100\", \"start_time\": \"2021-04-28T13:17:20.104845Z\", \"end_time\": \"2021-04-28T13:18:15.855711Z\", \"created_time\": \"2021-04-28T13:17:11.943713Z\", \"created_time_dt\": \"2021-04-28T13:17:11.943713Z\", \"duration\": \"0:01:03\", \"iteration\": \"8\", \"goal\": \"accuracy_max\", \"run_name\": \"RobustScaler, LightGBM\", \"run_properties\": \"copy=True, quantile_range=[10, 90], with_centering=False,\\n             with_scaling=False\", \"primary_metric\": 0.99902141, \"best_metric\": 0.9997555}, {\"run_id\": \"AutoML_3d077790-c191-4e70-92f9-555383579bac_9\", \"run_number\": 44, \"metric\": null, \"status\": \"Completed\", \"run_type\": \"azureml.scriptrun\", \"training_percent\": \"100\", \"start_time\": \"2021-04-28T13:18:30.345757Z\", \"end_time\": \"2021-04-28T13:19:24.629175Z\", \"created_time\": \"2021-04-28T13:18:17.615944Z\", \"created_time_dt\": \"2021-04-28T13:18:17.615944Z\", \"duration\": \"0:01:07\", \"iteration\": \"9\", \"goal\": \"accuracy_max\", \"run_name\": \"SparseNormalizer, XGBoostClassifier\", \"run_properties\": \"<azureml.automl.runtime.shared.model_wrappers.SparseNormalizer object at 0x7fc904d1e4a8\", \"primary_metric\": 0.99388364, \"best_metric\": 0.9997555}, {\"run_id\": \"AutoML_3d077790-c191-4e70-92f9-555383579bac_10\", \"run_number\": 45, \"metric\": null, \"status\": \"Completed\", \"run_type\": \"azureml.scriptrun\", \"training_percent\": \"100\", \"start_time\": \"2021-04-28T13:19:36.615574Z\", \"end_time\": \"2021-04-28T13:22:10.298823Z\", \"created_time\": \"2021-04-28T13:19:26.735802Z\", \"created_time_dt\": \"2021-04-28T13:19:26.735802Z\", \"duration\": \"0:02:43\", \"iteration\": \"10\", \"goal\": \"accuracy_max\", \"run_name\": \"TruncatedSVDWrapper, XGBoostClassifier\", \"run_properties\": \"n_components=0.7026315789473684, random_state=None\", \"primary_metric\": 0.99730872, \"best_metric\": 0.9997555}, {\"run_id\": \"AutoML_3d077790-c191-4e70-92f9-555383579bac_11\", \"run_number\": 46, \"metric\": null, \"status\": \"Completed\", \"run_type\": \"azureml.scriptrun\", \"training_percent\": \"100\", \"start_time\": \"2021-04-28T13:22:26.950735Z\", \"end_time\": \"2021-04-28T13:23:25.271097Z\", \"created_time\": \"2021-04-28T13:22:12.630957Z\", \"created_time_dt\": \"2021-04-28T13:22:12.630957Z\", \"duration\": \"0:01:12\", \"iteration\": \"11\", \"goal\": \"accuracy_max\", \"run_name\": \"StandardScalerWrapper, LightGBM\", \"run_properties\": \"<azureml.automl.runtime.shared.model_wrappers.StandardScalerWrapper object at 0x7f05cca46c50\", \"primary_metric\": 0.96990929, \"best_metric\": 0.9997555}, {\"run_id\": \"AutoML_3d077790-c191-4e70-92f9-555383579bac_12\", \"run_number\": 47, \"metric\": null, \"status\": \"Completed\", \"run_type\": \"azureml.scriptrun\", \"training_percent\": \"100\", \"start_time\": \"2021-04-28T13:23:39.191373Z\", \"end_time\": \"2021-04-28T13:24:33.504247Z\", \"created_time\": \"2021-04-28T13:23:27.372182Z\", \"created_time_dt\": \"2021-04-28T13:23:27.372182Z\", \"duration\": \"0:01:06\", \"iteration\": \"12\", \"goal\": \"accuracy_max\", \"run_name\": \"RobustScaler, ExtremeRandomTrees\", \"run_properties\": \"copy=True, quantile_range=[25, 75], with_centering=True,\\n             with_scaling=False\", \"primary_metric\": 0.95180741, \"best_metric\": 0.9997555}, {\"run_id\": \"AutoML_3d077790-c191-4e70-92f9-555383579bac_13\", \"run_number\": 48, \"metric\": null, \"status\": \"Completed\", \"run_type\": \"azureml.scriptrun\", \"training_percent\": \"100\", \"start_time\": \"2021-04-28T13:24:47.001679Z\", \"end_time\": \"2021-04-28T13:25:44.448651Z\", \"created_time\": \"2021-04-28T13:24:35.130661Z\", \"created_time_dt\": \"2021-04-28T13:24:35.130661Z\", \"duration\": \"0:01:09\", \"iteration\": \"13\", \"goal\": \"accuracy_max\", \"run_name\": \"SparseNormalizer, XGBoostClassifier\", \"run_properties\": \"<azureml.automl.runtime.shared.model_wrappers.SparseNormalizer object at 0x7f1f55a4aef0\", \"primary_metric\": 0.99608533, \"best_metric\": 0.9997555}, {\"run_id\": \"AutoML_3d077790-c191-4e70-92f9-555383579bac_14\", \"run_number\": 49, \"metric\": null, \"status\": \"Completed\", \"run_type\": \"azureml.scriptrun\", \"training_percent\": \"100\", \"start_time\": \"2021-04-28T13:25:57.093814Z\", \"end_time\": \"2021-04-28T13:28:30.25035Z\", \"created_time\": \"2021-04-28T13:25:46.456858Z\", \"created_time_dt\": \"2021-04-28T13:25:46.456858Z\", \"duration\": \"0:02:43\", \"iteration\": \"14\", \"goal\": \"accuracy_max\", \"run_name\": \"StandardScalerWrapper, LogisticRegression\", \"run_properties\": \"<azureml.automl.runtime.shared.model_wrappers.StandardScalerWrapper object at 0x7f8493e39a90\", \"primary_metric\": 0.97994482, \"best_metric\": 0.9997555}, {\"run_id\": \"AutoML_3d077790-c191-4e70-92f9-555383579bac_15\", \"run_number\": 50, \"metric\": null, \"status\": \"Completed\", \"run_type\": \"azureml.scriptrun\", \"training_percent\": \"100\", \"start_time\": \"2021-04-28T13:28:39.978238Z\", \"end_time\": \"2021-04-28T13:29:32.952493Z\", \"created_time\": \"2021-04-28T13:28:32.136482Z\", \"created_time_dt\": \"2021-04-28T13:28:32.136482Z\", \"duration\": \"0:01:00\", \"iteration\": \"15\", \"goal\": \"accuracy_max\", \"run_name\": \"StandardScalerWrapper, XGBoostClassifier\", \"run_properties\": \"<azureml.automl.runtime.shared.model_wrappers.StandardScalerWrapper object at 0x7f299863b128\", \"primary_metric\": 1.0, \"best_metric\": 1.0}, {\"run_id\": \"AutoML_3d077790-c191-4e70-92f9-555383579bac_16\", \"run_number\": 51, \"metric\": null, \"status\": \"Completed\", \"run_type\": \"azureml.scriptrun\", \"training_percent\": \"100\", \"start_time\": \"2021-04-28T13:29:46.34491Z\", \"end_time\": \"2021-04-28T13:30:46.919608Z\", \"created_time\": \"2021-04-28T13:29:34.628707Z\", \"created_time_dt\": \"2021-04-28T13:29:34.628707Z\", \"duration\": \"0:01:12\", \"iteration\": \"16\", \"goal\": \"accuracy_max\", \"run_name\": \"SparseNormalizer, XGBoostClassifier\", \"run_properties\": \"<azureml.automl.runtime.shared.model_wrappers.SparseNormalizer object at 0x7f05f3a92358\", \"primary_metric\": 0.99755352, \"best_metric\": 1.0}, {\"run_id\": \"AutoML_3d077790-c191-4e70-92f9-555383579bac_17\", \"run_number\": 52, \"metric\": null, \"status\": \"Completed\", \"run_type\": \"azureml.scriptrun\", \"training_percent\": \"100\", \"start_time\": \"2021-04-28T13:30:56.444662Z\", \"end_time\": \"2021-04-28T13:33:32.040081Z\", \"created_time\": \"2021-04-28T13:30:48.820215Z\", \"created_time_dt\": \"2021-04-28T13:30:48.820215Z\", \"duration\": \"0:02:43\", \"iteration\": \"17\", \"goal\": \"accuracy_max\", \"run_name\": \"StandardScalerWrapper, XGBoostClassifier\", \"run_properties\": \"<azureml.automl.runtime.shared.model_wrappers.StandardScalerWrapper object at 0x7f77affb6f98\", \"primary_metric\": 0.999511, \"best_metric\": 1.0}, {\"run_id\": \"AutoML_3d077790-c191-4e70-92f9-555383579bac_18\", \"run_number\": 53, \"metric\": null, \"status\": \"Completed\", \"run_type\": \"azureml.scriptrun\", \"training_percent\": \"100\", \"start_time\": \"2021-04-28T13:33:51.150749Z\", \"end_time\": \"2021-04-28T13:34:47.45295Z\", \"created_time\": \"2021-04-28T13:33:33.97666Z\", \"created_time_dt\": \"2021-04-28T13:33:33.97666Z\", \"duration\": \"0:01:13\", \"iteration\": \"18\", \"goal\": \"accuracy_max\", \"run_name\": \"MinMaxScaler, LightGBM\", \"run_properties\": \"copy=True, feature_range=(0, 1\", \"primary_metric\": 0.99779772, \"best_metric\": 1.0}, {\"run_id\": \"AutoML_3d077790-c191-4e70-92f9-555383579bac_19\", \"run_number\": 54, \"metric\": null, \"status\": \"Completed\", \"run_type\": \"azureml.scriptrun\", \"training_percent\": \"100\", \"start_time\": \"2021-04-28T13:34:58.973604Z\", \"end_time\": \"2021-04-28T13:35:55.42645Z\", \"created_time\": \"2021-04-28T13:34:49.341658Z\", \"created_time_dt\": \"2021-04-28T13:34:49.341658Z\", \"duration\": \"0:01:06\", \"iteration\": \"19\", \"goal\": \"accuracy_max\", \"run_name\": \"StandardScalerWrapper, LightGBM\", \"run_properties\": \"<azureml.automl.runtime.shared.model_wrappers.StandardScalerWrapper object at 0x7f47cb72b3c8\", \"primary_metric\": 0.99779831, \"best_metric\": 1.0}, {\"run_id\": \"AutoML_3d077790-c191-4e70-92f9-555383579bac_20\", \"run_number\": 55, \"metric\": null, \"status\": \"Completed\", \"run_type\": \"azureml.scriptrun\", \"training_percent\": \"100\", \"start_time\": \"2021-04-28T13:36:07.42117Z\", \"end_time\": \"2021-04-28T13:38:41.165923Z\", \"created_time\": \"2021-04-28T13:35:57.021081Z\", \"created_time_dt\": \"2021-04-28T13:35:57.021081Z\", \"duration\": \"0:02:44\", \"iteration\": \"20\", \"goal\": \"accuracy_max\", \"run_name\": \"VotingEnsemble\", \"run_properties\": \"classification_labels=None,\\n                              estimators=[('15',\\n                                           Pipeline(memory=None,\\n                                                    steps=[('standardscalerwrapper',\\n                                                            <azureml.automl.runtime.shared.model_wrappers.StandardScalerWrapper object at 0x7f2ebc17e940>\", \"primary_metric\": 1.0, \"best_metric\": 1.0}], \"children_metrics\": {\"categories\": [0], \"series\": {\"AUC_macro\": [{\"categories\": [\"0\", \"1\", \"2\", \"3\", \"4\", \"5\", \"6\", \"7\", \"8\", \"9\", \"10\", \"11\", \"12\", \"13\", \"14\", \"15\", \"16\", \"17\", \"18\", \"19\", \"20\"], \"mode\": \"markers\", \"name\": \"AUC_macro\", \"stepped\": false, \"type\": \"scatter\", \"data\": [0.9999623093209365, 0.9998589399399205, 0.9999572100984168, 0.997635442094162, 0.9999934169382179, 0.9966230878673674, 1.0, 0.999968112244898, 0.9997226628595601, 0.997225696810602, 0.9999746192893401, 1.0, 0.9994242649626471, 0.9996984055383807, 0.9983626540350811, 1.0, 0.9997920741869617, 0.998916613910277, 0.9998106053210571, 1.0, 1.0]}, {\"categories\": [\"0\", \"1\", \"2\", \"3\", \"4\", \"5\", \"6\", \"7\", \"8\", \"9\", \"10\", \"11\", \"12\", \"13\", \"14\", \"15\", \"16\", \"17\", \"18\", \"19\", \"20\"], \"mode\": \"lines\", \"name\": \"AUC_macro_max\", \"stepped\": true, \"type\": \"scatter\", \"data\": [0.9999623093209365, 0.9999623093209365, 0.9999623093209365, 0.9999623093209365, 0.9999934169382179, 0.9999934169382179, 1.0, 1.0, 1.0, 1.0, 1.0, 1.0, 1.0, 1.0, 1.0, 1.0, 1.0, 1.0, 1.0, 1.0, 1.0]}], \"log_loss\": [{\"categories\": [\"0\", \"1\", \"2\", \"3\", \"4\", \"5\", \"6\", \"7\", \"8\", \"9\", \"10\", \"11\", \"12\", \"13\", \"14\", \"15\", \"16\", \"17\", \"18\", \"19\", \"20\"], \"mode\": \"markers\", \"name\": \"log_loss\", \"stepped\": false, \"type\": \"scatter\", \"data\": [0.005372443290198685, 0.0032644746160512524, 0.036569321600384036, 0.07740066321353553, 0.07417935969297759, 0.03228181913472204, 0.006082993800496937, 0.025581475691530402, 0.005051172446976657, 0.2092122178953883, 0.04701120976511667, 0.06497044892888236, 0.08449076765495153, 0.05355095091617736, 0.05610117455696921, 0.06910508812832965, 0.009364208151845502, 0.22016454885222295, 0.007166057166981652, 0.005146212220496818, 0.050787497746738394]}, {\"categories\": [\"0\", \"1\", \"2\", \"3\", \"4\", \"5\", \"6\", \"7\", \"8\", \"9\", \"10\", \"11\", \"12\", \"13\", \"14\", \"15\", \"16\", \"17\", \"18\", \"19\", \"20\"], \"mode\": \"lines\", \"name\": \"log_loss_min\", \"stepped\": true, \"type\": \"scatter\", \"data\": [0.005372443290198685, 0.0032644746160512524, 0.0032644746160512524, 0.0032644746160512524, 0.0032644746160512524, 0.0032644746160512524, 0.0032644746160512524, 0.0032644746160512524, 0.0032644746160512524, 0.0032644746160512524, 0.0032644746160512524, 0.0032644746160512524, 0.0032644746160512524, 0.0032644746160512524, 0.0032644746160512524, 0.0032644746160512524, 0.0032644746160512524, 0.0032644746160512524, 0.0032644746160512524, 0.0032644746160512524, 0.0032644746160512524]}], \"recall_score_weighted\": [{\"categories\": [\"0\", \"1\", \"2\", \"3\", \"4\", \"5\", \"6\", \"7\", \"8\", \"9\", \"10\", \"11\", \"12\", \"13\", \"14\", \"15\", \"16\", \"17\", \"18\", \"19\", \"20\"], \"mode\": \"markers\", \"name\": \"recall_score_weighted\", \"stepped\": false, \"type\": \"scatter\", \"data\": [0.9982870122369094, 0.9995110024449877, 0.9931501437964046, 0.9530298994771856, 0.9982885085574573, 0.9880141731482285, 0.9997555012224939, 0.998531211750306, 0.9990214063617564, 0.9938836401289229, 0.9973087178627754, 0.9699092930483941, 0.9518074055896552, 0.9960853261829163, 0.9799448156981981, 1.0, 0.9975535159043911, 0.9995110024449877, 0.9977977154177877, 0.9977983139460068, 1.0]}, {\"categories\": [\"0\", \"1\", \"2\", \"3\", \"4\", \"5\", \"6\", \"7\", \"8\", \"9\", \"10\", \"11\", \"12\", \"13\", \"14\", \"15\", \"16\", \"17\", \"18\", \"19\", \"20\"], \"mode\": \"lines\", \"name\": \"recall_score_weighted_max\", \"stepped\": true, \"type\": \"scatter\", \"data\": [0.9982870122369094, 0.9995110024449877, 0.9995110024449877, 0.9995110024449877, 0.9995110024449877, 0.9995110024449877, 0.9997555012224939, 0.9997555012224939, 0.9997555012224939, 0.9997555012224939, 0.9997555012224939, 0.9997555012224939, 0.9997555012224939, 0.9997555012224939, 0.9997555012224939, 1.0, 1.0, 1.0, 1.0, 1.0, 1.0]}], \"precision_score_weighted\": [{\"categories\": [\"0\", \"1\", \"2\", \"3\", \"4\", \"5\", \"6\", \"7\", \"8\", \"9\", \"10\", \"11\", \"12\", \"13\", \"14\", \"15\", \"16\", \"17\", \"18\", \"19\", \"20\"], \"mode\": \"markers\", \"name\": \"precision_score_weighted\", \"stepped\": false, \"type\": \"scatter\", \"data\": [0.9982961673477581, 0.9995174247988075, 0.9932231153092725, 0.915495805720459, 0.9984481947508961, 0.9880120923703067, 0.9997616136919316, 0.9985425977057301, 0.9990226443302502, 0.994064907726098, 0.9974106388422428, 0.970921025436643, 0.9059918315387485, 0.996167040730597, 0.9865927395691989, 1.0, 0.9975771999775576, 0.9995174247988075, 0.9978420523268989, 0.9978902464041035, 1.0]}, {\"categories\": [\"0\", \"1\", \"2\", \"3\", \"4\", \"5\", \"6\", \"7\", \"8\", \"9\", \"10\", \"11\", \"12\", \"13\", \"14\", \"15\", \"16\", \"17\", \"18\", \"19\", \"20\"], \"mode\": \"lines\", \"name\": \"precision_score_weighted_max\", \"stepped\": true, \"type\": \"scatter\", \"data\": [0.9982961673477581, 0.9995174247988075, 0.9995174247988075, 0.9995174247988075, 0.9995174247988075, 0.9995174247988075, 0.9997616136919316, 0.9997616136919316, 0.9997616136919316, 0.9997616136919316, 0.9997616136919316, 0.9997616136919316, 0.9997616136919316, 0.9997616136919316, 0.9997616136919316, 1.0, 1.0, 1.0, 1.0, 1.0, 1.0]}], \"average_precision_score_macro\": [{\"categories\": [\"0\", \"1\", \"2\", \"3\", \"4\", \"5\", \"6\", \"7\", \"8\", \"9\", \"10\", \"11\", \"12\", \"13\", \"14\", \"15\", \"16\", \"17\", \"18\", \"19\", \"20\"], \"mode\": \"markers\", \"name\": \"average_precision_score_macro\", \"stepped\": false, \"type\": \"scatter\", \"data\": [0.9996402195964075, 0.9971903668579568, 0.9995123315963115, 0.9643693383323371, 0.9999357328593529, 0.9706912177832491, 1.0, 0.9997408693167478, 0.9926423000836715, 0.9905811046071579, 0.999564970678718, 1.0, 0.9957456322276158, 0.9975291118319811, 0.9810816459834731, 1.0, 0.9981196732166433, 0.9969589508364514, 0.998306525348946, 1.0, 1.0]}, {\"categories\": [\"0\", \"1\", \"2\", \"3\", \"4\", \"5\", \"6\", \"7\", \"8\", \"9\", \"10\", \"11\", \"12\", \"13\", \"14\", \"15\", \"16\", \"17\", \"18\", \"19\", \"20\"], \"mode\": \"lines\", \"name\": \"average_precision_score_macro_max\", \"stepped\": true, \"type\": \"scatter\", \"data\": [0.9996402195964075, 0.9996402195964075, 0.9996402195964075, 0.9996402195964075, 0.9999357328593529, 0.9999357328593529, 1.0, 1.0, 1.0, 1.0, 1.0, 1.0, 1.0, 1.0, 1.0, 1.0, 1.0, 1.0, 1.0, 1.0, 1.0]}], \"norm_macro_recall\": [{\"categories\": [\"0\", \"1\", \"2\", \"3\", \"4\", \"5\", \"6\", \"7\", \"8\", \"9\", \"10\", \"11\", \"12\", \"13\", \"14\", \"15\", \"16\", \"17\", \"18\", \"19\", \"20\"], \"mode\": \"markers\", \"name\": \"norm_macro_recall\", \"stepped\": false, \"type\": \"scatter\", \"data\": [0.9662585034013607, 0.993076593923834, 0.8746307540494227, 0.030512491359731442, 0.9982011741372995, 0.8457428845076475, 0.9997432605905006, 0.9755102040816326, 0.9823246173469389, 0.9430269680031614, 0.974235303942837, 0.3879748822605966, 0.0, 0.951742761139682, 0.9751665816210966, 1.0, 0.9769612299515582, 0.993076593923834, 0.9852849364661385, 0.9862202001903799, 1.0]}, {\"categories\": [\"0\", \"1\", \"2\", \"3\", \"4\", \"5\", \"6\", \"7\", \"8\", \"9\", \"10\", \"11\", \"12\", \"13\", \"14\", \"15\", \"16\", \"17\", \"18\", \"19\", \"20\"], \"mode\": \"lines\", \"name\": \"norm_macro_recall_max\", \"stepped\": true, \"type\": \"scatter\", \"data\": [0.9662585034013607, 0.993076593923834, 0.993076593923834, 0.993076593923834, 0.9982011741372995, 0.9982011741372995, 0.9997432605905006, 0.9997432605905006, 0.9997432605905006, 0.9997432605905006, 0.9997432605905006, 0.9997432605905006, 0.9997432605905006, 0.9997432605905006, 0.9997432605905006, 1.0, 1.0, 1.0, 1.0, 1.0, 1.0]}], \"weighted_accuracy\": [{\"categories\": [\"0\", \"1\", \"2\", \"3\", \"4\", \"5\", \"6\", \"7\", \"8\", \"9\", \"10\", \"11\", \"12\", \"13\", \"14\", \"15\", \"16\", \"17\", \"18\", \"19\", \"20\"], \"mode\": \"markers\", \"name\": \"weighted_accuracy\", \"stepped\": false, \"type\": \"scatter\", \"data\": [0.9998979637316981, 0.9997342537569285, 0.9993488479657275, 0.9971918990961409, 0.9982058466268212, 0.9947279792573337, 0.9997439024791162, 0.999900713411288, 0.9997047939060408, 0.9962599390455196, 0.9986281990611404, 0.9983213750180081, 0.9973710687352704, 0.9980813091141446, 0.9792798148359539, 1.0, 0.9984094670927547, 0.9997342537569285, 0.9984070196375161, 0.998418759558135, 1.0]}, {\"categories\": [\"0\", \"1\", \"2\", \"3\", \"4\", \"5\", \"6\", \"7\", \"8\", \"9\", \"10\", \"11\", \"12\", \"13\", \"14\", \"15\", \"16\", \"17\", \"18\", \"19\", \"20\"], \"mode\": \"lines\", \"name\": \"weighted_accuracy_max\", \"stepped\": true, \"type\": \"scatter\", \"data\": [0.9998979637316981, 0.9998979637316981, 0.9998979637316981, 0.9998979637316981, 0.9998979637316981, 0.9998979637316981, 0.9998979637316981, 0.999900713411288, 0.999900713411288, 0.999900713411288, 0.999900713411288, 0.999900713411288, 0.999900713411288, 0.999900713411288, 0.999900713411288, 1.0, 1.0, 1.0, 1.0, 1.0, 1.0]}], \"matthews_correlation\": [{\"categories\": [\"0\", \"1\", \"2\", \"3\", \"4\", \"5\", \"6\", \"7\", \"8\", \"9\", \"10\", \"11\", \"12\", \"13\", \"14\", \"15\", \"16\", \"17\", \"18\", \"19\", \"20\"], \"mode\": \"markers\", \"name\": \"matthews_correlation\", \"stepped\": false, \"type\": \"scatter\", \"data\": [0.9818811024321027, 0.9938711450589934, 0.9276453935943353, 0.07058611099026345, 0.9827653192171443, 0.8662969616269404, 0.9973573809492506, 0.9866277899263374, 0.9886315721040326, 0.9345904034275039, 0.9717673742241828, 0.6072986836956069, 0.0, 0.9576456894719847, 0.8295154430447935, 1.0, 0.972501554806388, 0.9938711450589934, 0.9787835404994238, 0.9765173290067061, 1.0]}, {\"categories\": [\"0\", \"1\", \"2\", \"3\", \"4\", \"5\", \"6\", \"7\", \"8\", \"9\", \"10\", \"11\", \"12\", \"13\", \"14\", \"15\", \"16\", \"17\", \"18\", \"19\", \"20\"], \"mode\": \"lines\", \"name\": \"matthews_correlation_max\", \"stepped\": true, \"type\": \"scatter\", \"data\": [0.9818811024321027, 0.9938711450589934, 0.9938711450589934, 0.9938711450589934, 0.9938711450589934, 0.9938711450589934, 0.9973573809492506, 0.9973573809492506, 0.9973573809492506, 0.9973573809492506, 0.9973573809492506, 0.9973573809492506, 0.9973573809492506, 0.9973573809492506, 0.9973573809492506, 1.0, 1.0, 1.0, 1.0, 1.0, 1.0]}], \"balanced_accuracy\": [{\"categories\": [\"0\", \"1\", \"2\", \"3\", \"4\", \"5\", \"6\", \"7\", \"8\", \"9\", \"10\", \"11\", \"12\", \"13\", \"14\", \"15\", \"16\", \"17\", \"18\", \"19\", \"20\"], \"mode\": \"markers\", \"name\": \"balanced_accuracy\", \"stepped\": false, \"type\": \"scatter\", \"data\": [0.9831292517006803, 0.9965382969619171, 0.9373153770247115, 0.5152562456798657, 0.9991005870686497, 0.9228714422538236, 0.9998716302952502, 0.9877551020408163, 0.9911623086734694, 0.9715134840015807, 0.9871176519714184, 0.6939874411302982, 0.5, 0.9758713805698409, 0.9875832908105483, 1.0, 0.9884806149757791, 0.9965382969619171, 0.9926424682330692, 0.99311010009519, 1.0]}, {\"categories\": [\"0\", \"1\", \"2\", \"3\", \"4\", \"5\", \"6\", \"7\", \"8\", \"9\", \"10\", \"11\", \"12\", \"13\", \"14\", \"15\", \"16\", \"17\", \"18\", \"19\", \"20\"], \"mode\": \"lines\", \"name\": \"balanced_accuracy_max\", \"stepped\": true, \"type\": \"scatter\", \"data\": [0.9831292517006803, 0.9965382969619171, 0.9965382969619171, 0.9965382969619171, 0.9991005870686497, 0.9991005870686497, 0.9998716302952502, 0.9998716302952502, 0.9998716302952502, 0.9998716302952502, 0.9998716302952502, 0.9998716302952502, 0.9998716302952502, 0.9998716302952502, 0.9998716302952502, 1.0, 1.0, 1.0, 1.0, 1.0, 1.0]}], \"accuracy\": [{\"categories\": [\"0\", \"1\", \"2\", \"3\", \"4\", \"5\", \"6\", \"7\", \"8\", \"9\", \"10\", \"11\", \"12\", \"13\", \"14\", \"15\", \"16\", \"17\", \"18\", \"19\", \"20\"], \"mode\": \"markers\", \"name\": \"accuracy\", \"stepped\": false, \"type\": \"scatter\", \"data\": [0.9982870122369094, 0.9995110024449877, 0.9931501437964046, 0.9530298994771856, 0.9982885085574573, 0.9880141731482285, 0.9997555012224939, 0.998531211750306, 0.9990214063617564, 0.9938836401289229, 0.9973087178627754, 0.9699092930483941, 0.9518074055896552, 0.9960853261829163, 0.9799448156981981, 1.0, 0.9975535159043911, 0.9995110024449877, 0.9977977154177877, 0.9977983139460068, 1.0]}, {\"categories\": [\"0\", \"1\", \"2\", \"3\", \"4\", \"5\", \"6\", \"7\", \"8\", \"9\", \"10\", \"11\", \"12\", \"13\", \"14\", \"15\", \"16\", \"17\", \"18\", \"19\", \"20\"], \"mode\": \"lines\", \"name\": \"accuracy_max\", \"stepped\": true, \"type\": \"scatter\", \"data\": [0.9982870122369094, 0.9995110024449877, 0.9995110024449877, 0.9995110024449877, 0.9995110024449877, 0.9995110024449877, 0.9997555012224939, 0.9997555012224939, 0.9997555012224939, 0.9997555012224939, 0.9997555012224939, 0.9997555012224939, 0.9997555012224939, 0.9997555012224939, 0.9997555012224939, 1.0, 1.0, 1.0, 1.0, 1.0, 1.0]}], \"recall_score_micro\": [{\"categories\": [\"0\", \"1\", \"2\", \"3\", \"4\", \"5\", \"6\", \"7\", \"8\", \"9\", \"10\", \"11\", \"12\", \"13\", \"14\", \"15\", \"16\", \"17\", \"18\", \"19\", \"20\"], \"mode\": \"markers\", \"name\": \"recall_score_micro\", \"stepped\": false, \"type\": \"scatter\", \"data\": [0.9982870122369094, 0.9995110024449877, 0.9931501437964046, 0.9530298994771856, 0.9982885085574573, 0.9880141731482285, 0.9997555012224939, 0.998531211750306, 0.9990214063617564, 0.9938836401289229, 0.9973087178627754, 0.9699092930483941, 0.9518074055896552, 0.9960853261829163, 0.9799448156981981, 1.0, 0.9975535159043911, 0.9995110024449877, 0.9977977154177877, 0.9977983139460068, 1.0]}, {\"categories\": [\"0\", \"1\", \"2\", \"3\", \"4\", \"5\", \"6\", \"7\", \"8\", \"9\", \"10\", \"11\", \"12\", \"13\", \"14\", \"15\", \"16\", \"17\", \"18\", \"19\", \"20\"], \"mode\": \"lines\", \"name\": \"recall_score_micro_max\", \"stepped\": true, \"type\": \"scatter\", \"data\": [0.9982870122369094, 0.9995110024449877, 0.9995110024449877, 0.9995110024449877, 0.9995110024449877, 0.9995110024449877, 0.9997555012224939, 0.9997555012224939, 0.9997555012224939, 0.9997555012224939, 0.9997555012224939, 0.9997555012224939, 0.9997555012224939, 0.9997555012224939, 0.9997555012224939, 1.0, 1.0, 1.0, 1.0, 1.0, 1.0]}], \"AUC_micro\": [{\"categories\": [\"0\", \"1\", \"2\", \"3\", \"4\", \"5\", \"6\", \"7\", \"8\", \"9\", \"10\", \"11\", \"12\", \"13\", \"14\", \"15\", \"16\", \"17\", \"18\", \"19\", \"20\"], \"mode\": \"markers\", \"name\": \"AUC_micro\", \"stepped\": false, \"type\": \"scatter\", \"data\": [0.9999832280187186, 0.9999695123773769, 0.9998356918005442, 0.997409583304681, 0.9999781804269462, 0.9993749674037063, 0.9999985055086948, 0.9999502613526217, 0.9999670479768005, 0.9996028240642978, 0.9999787518662526, 0.9982190453711791, 0.9975643033311481, 0.9999071665564596, 0.998699406724253, 1.0, 0.9999383061543261, 0.9999052492512599, 0.9999607623275807, 0.9999895224536772, 1.0]}, {\"categories\": [\"0\", \"1\", \"2\", \"3\", \"4\", \"5\", \"6\", \"7\", \"8\", \"9\", \"10\", \"11\", \"12\", \"13\", \"14\", \"15\", \"16\", \"17\", \"18\", \"19\", \"20\"], \"mode\": \"lines\", \"name\": \"AUC_micro_max\", \"stepped\": true, \"type\": \"scatter\", \"data\": [0.9999832280187186, 0.9999832280187186, 0.9999832280187186, 0.9999832280187186, 0.9999832280187186, 0.9999832280187186, 0.9999985055086948, 0.9999985055086948, 0.9999985055086948, 0.9999985055086948, 0.9999985055086948, 0.9999985055086948, 0.9999985055086948, 0.9999985055086948, 0.9999985055086948, 1.0, 1.0, 1.0, 1.0, 1.0, 1.0]}], \"f1_score_macro\": [{\"categories\": [\"0\", \"1\", \"2\", \"3\", \"4\", \"5\", \"6\", \"7\", \"8\", \"9\", \"10\", \"11\", \"12\", \"13\", \"14\", \"15\", \"16\", \"17\", \"18\", \"19\", \"20\"], \"mode\": \"markers\", \"name\": \"f1_score_macro\", \"stepped\": false, \"type\": \"scatter\", \"data\": [0.9907241727062605, 0.9969116243442653, 0.9616644523870941, 0.5140377073433516, 0.9911667396916553, 0.9323857504120212, 0.998669951139403, 0.9930891558111995, 0.9942539567657731, 0.9669991947124791, 0.9855079979723879, 0.7673460882206431, 0.487647036703553, 0.9785020165413769, 0.9064787230703771, 1.0, 0.9861794251110737, 0.9969116243442653, 0.989335047019023, 0.9880675410194144, 1.0]}, {\"categories\": [\"0\", \"1\", \"2\", \"3\", \"4\", \"5\", \"6\", \"7\", \"8\", \"9\", \"10\", \"11\", \"12\", \"13\", \"14\", \"15\", \"16\", \"17\", \"18\", \"19\", \"20\"], \"mode\": \"lines\", \"name\": \"f1_score_macro_max\", \"stepped\": true, \"type\": \"scatter\", \"data\": [0.9907241727062605, 0.9969116243442653, 0.9969116243442653, 0.9969116243442653, 0.9969116243442653, 0.9969116243442653, 0.998669951139403, 0.998669951139403, 0.998669951139403, 0.998669951139403, 0.998669951139403, 0.998669951139403, 0.998669951139403, 0.998669951139403, 0.998669951139403, 1.0, 1.0, 1.0, 1.0, 1.0, 1.0]}], \"average_precision_score_weighted\": [{\"categories\": [\"0\", \"1\", \"2\", \"3\", \"4\", \"5\", \"6\", \"7\", \"8\", \"9\", \"10\", \"11\", \"12\", \"13\", \"14\", \"15\", \"16\", \"17\", \"18\", \"19\", \"20\"], \"mode\": \"markers\", \"name\": \"average_precision_score_weighted\", \"stepped\": false, \"type\": \"scatter\", \"data\": [0.9999597834657994, 0.9997267998450143, 0.9999514301551067, 0.9963732344418389, 0.9999935740705912, 0.9971386042860161, 1.0, 0.999967140420322, 0.9991128181604644, 0.998765655548118, 0.9999669002946219, 1.0, 0.9995247327064408, 0.9997299044296915, 0.9982010126931185, 1.0, 0.9997978174668827, 0.9997230927285795, 0.9998055652259573, 1.0, 1.0]}, {\"categories\": [\"0\", \"1\", \"2\", \"3\", \"4\", \"5\", \"6\", \"7\", \"8\", \"9\", \"10\", \"11\", \"12\", \"13\", \"14\", \"15\", \"16\", \"17\", \"18\", \"19\", \"20\"], \"mode\": \"lines\", \"name\": \"average_precision_score_weighted_max\", \"stepped\": true, \"type\": \"scatter\", \"data\": [0.9999597834657994, 0.9999597834657994, 0.9999597834657994, 0.9999597834657994, 0.9999935740705912, 0.9999935740705912, 1.0, 1.0, 1.0, 1.0, 1.0, 1.0, 1.0, 1.0, 1.0, 1.0, 1.0, 1.0, 1.0, 1.0, 1.0]}], \"AUC_weighted\": [{\"categories\": [\"0\", \"1\", \"2\", \"3\", \"4\", \"5\", \"6\", \"7\", \"8\", \"9\", \"10\", \"11\", \"12\", \"13\", \"14\", \"15\", \"16\", \"17\", \"18\", \"19\", \"20\"], \"mode\": \"markers\", \"name\": \"AUC_weighted\", \"stepped\": false, \"type\": \"scatter\", \"data\": [0.9999623093209365, 0.9998589399399205, 0.9999572100984168, 0.997635442094162, 0.9999934169382179, 0.9966230878673674, 1.0, 0.999968112244898, 0.9997226628595601, 0.997225696810602, 0.9999746192893401, 1.0, 0.9994242649626471, 0.9996984055383807, 0.9983626540350811, 1.0, 0.9997920741869617, 0.9989166139102768, 0.9998106053210571, 1.0, 1.0]}, {\"categories\": [\"0\", \"1\", \"2\", \"3\", \"4\", \"5\", \"6\", \"7\", \"8\", \"9\", \"10\", \"11\", \"12\", \"13\", \"14\", \"15\", \"16\", \"17\", \"18\", \"19\", \"20\"], \"mode\": \"lines\", \"name\": \"AUC_weighted_max\", \"stepped\": true, \"type\": \"scatter\", \"data\": [0.9999623093209365, 0.9999623093209365, 0.9999623093209365, 0.9999623093209365, 0.9999934169382179, 0.9999934169382179, 1.0, 1.0, 1.0, 1.0, 1.0, 1.0, 1.0, 1.0, 1.0, 1.0, 1.0, 1.0, 1.0, 1.0, 1.0]}], \"f1_score_micro\": [{\"categories\": [\"0\", \"1\", \"2\", \"3\", \"4\", \"5\", \"6\", \"7\", \"8\", \"9\", \"10\", \"11\", \"12\", \"13\", \"14\", \"15\", \"16\", \"17\", \"18\", \"19\", \"20\"], \"mode\": \"markers\", \"name\": \"f1_score_micro\", \"stepped\": false, \"type\": \"scatter\", \"data\": [0.9982870122369094, 0.9995110024449877, 0.9931501437964046, 0.9530298994771856, 0.9982885085574573, 0.9880141731482285, 0.9997555012224939, 0.998531211750306, 0.9990214063617564, 0.9938836401289229, 0.9973087178627754, 0.9699092930483941, 0.9518074055896552, 0.9960853261829163, 0.9799448156981981, 1.0, 0.9975535159043911, 0.9995110024449877, 0.9977977154177877, 0.9977983139460068, 1.0]}, {\"categories\": [\"0\", \"1\", \"2\", \"3\", \"4\", \"5\", \"6\", \"7\", \"8\", \"9\", \"10\", \"11\", \"12\", \"13\", \"14\", \"15\", \"16\", \"17\", \"18\", \"19\", \"20\"], \"mode\": \"lines\", \"name\": \"f1_score_micro_max\", \"stepped\": true, \"type\": \"scatter\", \"data\": [0.9982870122369094, 0.9995110024449877, 0.9995110024449877, 0.9995110024449877, 0.9995110024449877, 0.9995110024449877, 0.9997555012224939, 0.9997555012224939, 0.9997555012224939, 0.9997555012224939, 0.9997555012224939, 0.9997555012224939, 0.9997555012224939, 0.9997555012224939, 0.9997555012224939, 1.0, 1.0, 1.0, 1.0, 1.0, 1.0]}], \"precision_score_macro\": [{\"categories\": [\"0\", \"1\", \"2\", \"3\", \"4\", \"5\", \"6\", \"7\", \"8\", \"9\", \"10\", \"11\", \"12\", \"13\", \"14\", \"15\", \"16\", \"17\", \"18\", \"19\", \"20\"], \"mode\": \"markers\", \"name\": \"precision_score_macro\", \"stepped\": false, \"type\": \"scatter\", \"data\": [0.9991000049126371, 0.997373257287706, 0.993852863482226, 0.5623166641156119, 0.9840108401084011, 0.9446360159567873, 0.9974999999999999, 0.9992248062015504, 0.997575810783174, 0.9635561052563467, 0.9852558483301536, 0.9846900989766555, 0.4759037027948276, 0.9823046809064679, 0.8550930592203552, 1.0, 0.9841377541858709, 0.997373257287706, 0.9862328253218029, 0.9837180377987771, 1.0]}, {\"categories\": [\"0\", \"1\", \"2\", \"3\", \"4\", \"5\", \"6\", \"7\", \"8\", \"9\", \"10\", \"11\", \"12\", \"13\", \"14\", \"15\", \"16\", \"17\", \"18\", \"19\", \"20\"], \"mode\": \"lines\", \"name\": \"precision_score_macro_max\", \"stepped\": true, \"type\": \"scatter\", \"data\": [0.9991000049126371, 0.9991000049126371, 0.9991000049126371, 0.9991000049126371, 0.9991000049126371, 0.9991000049126371, 0.9991000049126371, 0.9992248062015504, 0.9992248062015504, 0.9992248062015504, 0.9992248062015504, 0.9992248062015504, 0.9992248062015504, 0.9992248062015504, 0.9992248062015504, 1.0, 1.0, 1.0, 1.0, 1.0, 1.0]}], \"recall_score_macro\": [{\"categories\": [\"0\", \"1\", \"2\", \"3\", \"4\", \"5\", \"6\", \"7\", \"8\", \"9\", \"10\", \"11\", \"12\", \"13\", \"14\", \"15\", \"16\", \"17\", \"18\", \"19\", \"20\"], \"mode\": \"markers\", \"name\": \"recall_score_macro\", \"stepped\": false, \"type\": \"scatter\", \"data\": [0.9831292517006803, 0.9965382969619171, 0.9373153770247115, 0.5152562456798657, 0.9991005870686497, 0.9228714422538236, 0.9998716302952502, 0.9877551020408163, 0.9911623086734694, 0.9715134840015807, 0.9871176519714184, 0.6939874411302982, 0.5, 0.9758713805698409, 0.9875832908105483, 1.0, 0.9884806149757791, 0.9965382969619171, 0.9926424682330692, 0.99311010009519, 1.0]}, {\"categories\": [\"0\", \"1\", \"2\", \"3\", \"4\", \"5\", \"6\", \"7\", \"8\", \"9\", \"10\", \"11\", \"12\", \"13\", \"14\", \"15\", \"16\", \"17\", \"18\", \"19\", \"20\"], \"mode\": \"lines\", \"name\": \"recall_score_macro_max\", \"stepped\": true, \"type\": \"scatter\", \"data\": [0.9831292517006803, 0.9965382969619171, 0.9965382969619171, 0.9965382969619171, 0.9991005870686497, 0.9991005870686497, 0.9998716302952502, 0.9998716302952502, 0.9998716302952502, 0.9998716302952502, 0.9998716302952502, 0.9998716302952502, 0.9998716302952502, 0.9998716302952502, 0.9998716302952502, 1.0, 1.0, 1.0, 1.0, 1.0, 1.0]}], \"precision_score_micro\": [{\"categories\": [\"0\", \"1\", \"2\", \"3\", \"4\", \"5\", \"6\", \"7\", \"8\", \"9\", \"10\", \"11\", \"12\", \"13\", \"14\", \"15\", \"16\", \"17\", \"18\", \"19\", \"20\"], \"mode\": \"markers\", \"name\": \"precision_score_micro\", \"stepped\": false, \"type\": \"scatter\", \"data\": [0.9982870122369094, 0.9995110024449877, 0.9931501437964046, 0.9530298994771856, 0.9982885085574573, 0.9880141731482285, 0.9997555012224939, 0.998531211750306, 0.9990214063617564, 0.9938836401289229, 0.9973087178627754, 0.9699092930483941, 0.9518074055896552, 0.9960853261829163, 0.9799448156981981, 1.0, 0.9975535159043911, 0.9995110024449877, 0.9977977154177877, 0.9977983139460068, 1.0]}, {\"categories\": [\"0\", \"1\", \"2\", \"3\", \"4\", \"5\", \"6\", \"7\", \"8\", \"9\", \"10\", \"11\", \"12\", \"13\", \"14\", \"15\", \"16\", \"17\", \"18\", \"19\", \"20\"], \"mode\": \"lines\", \"name\": \"precision_score_micro_max\", \"stepped\": true, \"type\": \"scatter\", \"data\": [0.9982870122369094, 0.9995110024449877, 0.9995110024449877, 0.9995110024449877, 0.9995110024449877, 0.9995110024449877, 0.9997555012224939, 0.9997555012224939, 0.9997555012224939, 0.9997555012224939, 0.9997555012224939, 0.9997555012224939, 0.9997555012224939, 0.9997555012224939, 0.9997555012224939, 1.0, 1.0, 1.0, 1.0, 1.0, 1.0]}], \"average_precision_score_micro\": [{\"categories\": [\"0\", \"1\", \"2\", \"3\", \"4\", \"5\", \"6\", \"7\", \"8\", \"9\", \"10\", \"11\", \"12\", \"13\", \"14\", \"15\", \"16\", \"17\", \"18\", \"19\", \"20\"], \"mode\": \"markers\", \"name\": \"average_precision_score_micro\", \"stepped\": false, \"type\": \"scatter\", \"data\": [0.9999830036708268, 0.9999578655695149, 0.9998369126691873, 0.9974751063743532, 0.9999782852197521, 0.9993836889401262, 0.9999985084194412, 0.9999507124687957, 0.9999674711480966, 0.9994786013796123, 0.9999782456832366, 0.9982566463636035, 0.997625369404699, 0.9999076492246063, 0.9987258839750466, 1.0, 0.9999390097657305, 0.9998967526995027, 0.9999609813836632, 0.9999895570979312, 1.0]}, {\"categories\": [\"0\", \"1\", \"2\", \"3\", \"4\", \"5\", \"6\", \"7\", \"8\", \"9\", \"10\", \"11\", \"12\", \"13\", \"14\", \"15\", \"16\", \"17\", \"18\", \"19\", \"20\"], \"mode\": \"lines\", \"name\": \"average_precision_score_micro_max\", \"stepped\": true, \"type\": \"scatter\", \"data\": [0.9999830036708268, 0.9999830036708268, 0.9999830036708268, 0.9999830036708268, 0.9999830036708268, 0.9999830036708268, 0.9999985084194412, 0.9999985084194412, 0.9999985084194412, 0.9999985084194412, 0.9999985084194412, 0.9999985084194412, 0.9999985084194412, 0.9999985084194412, 0.9999985084194412, 1.0, 1.0, 1.0, 1.0, 1.0, 1.0]}], \"f1_score_weighted\": [{\"categories\": [\"0\", \"1\", \"2\", \"3\", \"4\", \"5\", \"6\", \"7\", \"8\", \"9\", \"10\", \"11\", \"12\", \"13\", \"14\", \"15\", \"16\", \"17\", \"18\", \"19\", \"20\"], \"mode\": \"markers\", \"name\": \"f1_score_weighted\", \"stepped\": false, \"type\": \"scatter\", \"data\": [0.9982479738740515, 0.9995104768863028, 0.9927390683507724, 0.9313867147949818, 0.9983282919706395, 0.9878465702680238, 0.9997569701671261, 0.9984861740459824, 0.9990132852538108, 0.9939213893249935, 0.997286243104368, 0.9628768515665305, 0.9283207377722039, 0.9960712081480635, 0.9818905090742864, 1.0, 0.9975526902377849, 0.9995104768863028, 0.9978092983931584, 0.9978093567726767, 1.0]}, {\"categories\": [\"0\", \"1\", \"2\", \"3\", \"4\", \"5\", \"6\", \"7\", \"8\", \"9\", \"10\", \"11\", \"12\", \"13\", \"14\", \"15\", \"16\", \"17\", \"18\", \"19\", \"20\"], \"mode\": \"lines\", \"name\": \"f1_score_weighted_max\", \"stepped\": true, \"type\": \"scatter\", \"data\": [0.9982479738740515, 0.9995104768863028, 0.9995104768863028, 0.9995104768863028, 0.9995104768863028, 0.9995104768863028, 0.9997569701671261, 0.9997569701671261, 0.9997569701671261, 0.9997569701671261, 0.9997569701671261, 0.9997569701671261, 0.9997569701671261, 0.9997569701671261, 0.9997569701671261, 1.0, 1.0, 1.0, 1.0, 1.0, 1.0]}]}, \"metricName\": null, \"primaryMetricName\": \"accuracy\", \"showLegend\": false}, \"run_metrics\": [{\"name\": \"experiment_status\", \"run_id\": \"AutoML_3d077790-c191-4e70-92f9-555383579bac\", \"categories\": [0, 1, 2, 3, 4, 5, 6, 7, 8, 9, 10, 11, 12, 13, 14], \"series\": [{\"data\": [\"DatasetEvaluation\", \"FeaturesGeneration\", \"DatasetFeaturization\", \"DatasetFeaturizationCompleted\", \"DatasetBalancing\", \"DatasetCrossValidationSplit\", \"ModelSelection\", \"BestRunExplainModel\", \"ModelExplanationDataSetSetup\", \"PickSurrogateModel\", \"EngineeredFeatureExplanations\", \"EngineeredFeatureExplanations\", \"RawFeaturesExplanations\", \"RawFeaturesExplanations\", \"BestRunExplainModel\"]}]}, {\"name\": \"experiment_status_description\", \"run_id\": \"AutoML_3d077790-c191-4e70-92f9-555383579bac\", \"categories\": [0, 1, 2, 3, 4, 5, 6, 7, 8, 9, 10, 11, 12, 13, 14], \"series\": [{\"data\": [\"Gathering dataset statistics.\", \"Generating features for the dataset.\", \"Beginning to fit featurizers and featurize the dataset.\", \"Completed fit featurizers and featurizing the dataset.\", \"Performing class balancing sweeping\", \"Generating individually featurized CV splits.\", \"Beginning model selection.\", \"Best run model explanations started\", \"Model explanations data setup completed\", \"Choosing LightGBM as the surrogate model for explanations\", \"Computation of engineered features started\", \"Computation of engineered features completed\", \"Computation of raw features started\", \"Computation of raw features completed\", \"Best run model explanations completed\"]}]}, {\"name\": \"AUC_micro\", \"run_id\": \"AutoML_3d077790-c191-4e70-92f9-555383579bac\", \"categories\": [0], \"series\": [{\"data\": [1.0]}]}, {\"name\": \"precision_score_weighted\", \"run_id\": \"AutoML_3d077790-c191-4e70-92f9-555383579bac\", \"categories\": [0], \"series\": [{\"data\": [1.0]}]}, {\"name\": \"norm_macro_recall\", \"run_id\": \"AutoML_3d077790-c191-4e70-92f9-555383579bac\", \"categories\": [0], \"series\": [{\"data\": [1.0]}]}, {\"name\": \"recall_score_micro\", \"run_id\": \"AutoML_3d077790-c191-4e70-92f9-555383579bac\", \"categories\": [0], \"series\": [{\"data\": [1.0]}]}, {\"name\": \"log_loss\", \"run_id\": \"AutoML_3d077790-c191-4e70-92f9-555383579bac\", \"categories\": [0], \"series\": [{\"data\": [0.06910508812832965]}]}, {\"name\": \"average_precision_score_weighted\", \"run_id\": \"AutoML_3d077790-c191-4e70-92f9-555383579bac\", \"categories\": [0], \"series\": [{\"data\": [1.0]}]}, {\"name\": \"weighted_accuracy\", \"run_id\": \"AutoML_3d077790-c191-4e70-92f9-555383579bac\", \"categories\": [0], \"series\": [{\"data\": [1.0]}]}, {\"name\": \"accuracy\", \"run_id\": \"AutoML_3d077790-c191-4e70-92f9-555383579bac\", \"categories\": [0], \"series\": [{\"data\": [1.0]}]}, {\"name\": \"precision_score_micro\", \"run_id\": \"AutoML_3d077790-c191-4e70-92f9-555383579bac\", \"categories\": [0], \"series\": [{\"data\": [1.0]}]}, {\"name\": \"balanced_accuracy\", \"run_id\": \"AutoML_3d077790-c191-4e70-92f9-555383579bac\", \"categories\": [0], \"series\": [{\"data\": [1.0]}]}, {\"name\": \"matthews_correlation\", \"run_id\": \"AutoML_3d077790-c191-4e70-92f9-555383579bac\", \"categories\": [0], \"series\": [{\"data\": [1.0]}]}, {\"name\": \"average_precision_score_micro\", \"run_id\": \"AutoML_3d077790-c191-4e70-92f9-555383579bac\", \"categories\": [0], \"series\": [{\"data\": [1.0]}]}, {\"name\": \"precision_score_macro\", \"run_id\": \"AutoML_3d077790-c191-4e70-92f9-555383579bac\", \"categories\": [0], \"series\": [{\"data\": [1.0]}]}, {\"name\": \"average_precision_score_macro\", \"run_id\": \"AutoML_3d077790-c191-4e70-92f9-555383579bac\", \"categories\": [0], \"series\": [{\"data\": [1.0]}]}, {\"name\": \"recall_score_macro\", \"run_id\": \"AutoML_3d077790-c191-4e70-92f9-555383579bac\", \"categories\": [0], \"series\": [{\"data\": [1.0]}]}, {\"name\": \"f1_score_macro\", \"run_id\": \"AutoML_3d077790-c191-4e70-92f9-555383579bac\", \"categories\": [0], \"series\": [{\"data\": [1.0]}]}, {\"name\": \"f1_score_weighted\", \"run_id\": \"AutoML_3d077790-c191-4e70-92f9-555383579bac\", \"categories\": [0], \"series\": [{\"data\": [1.0]}]}, {\"name\": \"f1_score_micro\", \"run_id\": \"AutoML_3d077790-c191-4e70-92f9-555383579bac\", \"categories\": [0], \"series\": [{\"data\": [1.0]}]}, {\"name\": \"AUC_weighted\", \"run_id\": \"AutoML_3d077790-c191-4e70-92f9-555383579bac\", \"categories\": [0], \"series\": [{\"data\": [1.0]}]}, {\"name\": \"recall_score_weighted\", \"run_id\": \"AutoML_3d077790-c191-4e70-92f9-555383579bac\", \"categories\": [0], \"series\": [{\"data\": [1.0]}]}, {\"name\": \"AUC_macro\", \"run_id\": \"AutoML_3d077790-c191-4e70-92f9-555383579bac\", \"categories\": [0], \"series\": [{\"data\": [1.0]}]}], \"run_logs\": \"\\nRun is completed.\", \"graph\": {}, \"widget_settings\": {\"childWidgetDisplay\": \"popup\", \"send_telemetry\": false, \"log_level\": \"INFO\", \"sdk_version\": \"1.22.0\"}, \"loading\": false}"
     },
     "metadata": {},
     "output_type": "display_data"
    }
   ],
   "source": [
    "from azureml.widgets import RunDetails\n",
    "\n",
    "#Launch the widget to view the progress and results\n",
    "RunDetails(remote_run).show()"
   ]
  },
  {
   "cell_type": "code",
   "execution_count": 14,
   "metadata": {},
   "outputs": [
    {
     "name": "stdout",
     "output_type": "stream",
     "text": [
      "CPU times: user 175 ms, sys: 3.96 ms, total: 179 ms\n",
      "Wall time: 3.17 s\n"
     ]
    },
    {
     "data": {
      "text/plain": [
       "{'runId': 'AutoML_3d077790-c191-4e70-92f9-555383579bac',\n",
       " 'target': 'F-VM',\n",
       " 'status': 'Completed',\n",
       " 'startTimeUtc': '2021-04-28T13:01:05.462226Z',\n",
       " 'endTimeUtc': '2021-04-28T13:38:43.338947Z',\n",
       " 'properties': {'num_iterations': '1000',\n",
       "  'training_type': 'TrainFull',\n",
       "  'acquisition_function': 'EI',\n",
       "  'primary_metric': 'accuracy',\n",
       "  'train_split': '0',\n",
       "  'acquisition_parameter': '0',\n",
       "  'num_cross_validation': '5',\n",
       "  'target': 'F-VM',\n",
       "  'AMLSettingsJsonString': '{\"path\":null,\"name\":\"automl-stroke-classification-experiment\",\"subscription_id\":\"fa3dfb7e-5583-41a5-b60c-022e3fcc2942\",\"resource_group\":\"mlops-rg-templateml\",\"workspace_name\":\"mlops-aml-ws-templateml\",\"region\":\"eastus\",\"compute_target\":\"F-VM\",\"spark_service\":null,\"azure_service\":\"remote\",\"many_models\":false,\"pipeline_fetch_max_batch_size\":1,\"iterations\":1000,\"primary_metric\":\"accuracy\",\"task_type\":\"classification\",\"data_script\":null,\"validation_size\":0.0,\"n_cross_validations\":5,\"y_min\":null,\"y_max\":null,\"num_classes\":null,\"featurization\":\"auto\",\"_ignore_package_version_incompatibilities\":false,\"is_timeseries\":false,\"max_cores_per_iteration\":1,\"max_concurrent_iterations\":1,\"iteration_timeout_minutes\":null,\"mem_in_mb\":null,\"enforce_time_on_windows\":false,\"experiment_timeout_minutes\":30,\"experiment_exit_score\":null,\"whitelist_models\":null,\"blacklist_algos\":[\"TensorFlowLinearClassifier\",\"TensorFlowDNN\"],\"supported_models\":[\"SGD\",\"BernoulliNaiveBayes\",\"LightGBM\",\"AveragedPerceptronClassifier\",\"LogisticRegression\",\"TensorFlowDNN\",\"ExtremeRandomTrees\",\"SVM\",\"DecisionTree\",\"XGBoostClassifier\",\"LinearSVM\",\"GradientBoosting\",\"TensorFlowLinearClassifier\",\"RandomForest\",\"MultinomialNaiveBayes\",\"KNN\"],\"private_models\":[],\"auto_blacklist\":true,\"blacklist_samples_reached\":false,\"exclude_nan_labels\":true,\"verbosity\":20,\"_debug_log\":\"azureml_automl.log\",\"show_warnings\":false,\"model_explainability\":true,\"service_url\":null,\"sdk_url\":null,\"sdk_packages\":null,\"enable_onnx_compatible_models\":true,\"enable_split_onnx_featurizer_estimator_models\":false,\"vm_type\":\"STANDARD_DS3_V2\",\"telemetry_verbosity\":20,\"send_telemetry\":true,\"enable_dnn\":false,\"scenario\":\"SDK-1.13.0\",\"environment_label\":null,\"force_text_dnn\":false,\"enable_feature_sweeping\":false,\"enable_early_stopping\":false,\"early_stopping_n_iters\":10,\"metrics\":null,\"enable_ensembling\":true,\"enable_stack_ensembling\":false,\"ensemble_iterations\":15,\"enable_tf\":false,\"enable_subsampling\":null,\"subsample_seed\":null,\"enable_nimbusml\":false,\"enable_streaming\":false,\"force_streaming\":false,\"track_child_runs\":true,\"allowed_private_models\":[],\"label_column_name\":\"stroke\",\"weight_column_name\":null,\"cv_split_column_names\":null,\"enable_local_managed\":false,\"_local_managed_run_id\":null,\"cost_mode\":1,\"lag_length\":0,\"metric_operation\":\"maximize\",\"preprocess\":true}',\n",
       "  'DataPrepJsonString': '{\\\\\"training_data\\\\\": \\\\\"{\\\\\\\\\\\\\"blocks\\\\\\\\\\\\\": [{\\\\\\\\\\\\\"id\\\\\\\\\\\\\": \\\\\\\\\\\\\"479837d4-36a4-4fe4-8951-fb527664c168\\\\\\\\\\\\\", \\\\\\\\\\\\\"type\\\\\\\\\\\\\": \\\\\\\\\\\\\"Microsoft.DPrep.GetDatastoreFilesBlock\\\\\\\\\\\\\", \\\\\\\\\\\\\"arguments\\\\\\\\\\\\\": {\\\\\\\\\\\\\"datastores\\\\\\\\\\\\\": [{\\\\\\\\\\\\\"datastoreName\\\\\\\\\\\\\": \\\\\\\\\\\\\"workspaceblobstore\\\\\\\\\\\\\", \\\\\\\\\\\\\"path\\\\\\\\\\\\\": \\\\\\\\\\\\\"data/train.csv\\\\\\\\\\\\\", \\\\\\\\\\\\\"resourceGroup\\\\\\\\\\\\\": \\\\\\\\\\\\\"mlops-rg-templateml\\\\\\\\\\\\\", \\\\\\\\\\\\\"subscription\\\\\\\\\\\\\": \\\\\\\\\\\\\"fa3dfb7e-5583-41a5-b60c-022e3fcc2942\\\\\\\\\\\\\", \\\\\\\\\\\\\"workspaceName\\\\\\\\\\\\\": \\\\\\\\\\\\\"mlops-aml-ws-templateml\\\\\\\\\\\\\"}]}, \\\\\\\\\\\\\"localData\\\\\\\\\\\\\": {}, \\\\\\\\\\\\\"isEnabled\\\\\\\\\\\\\": true, \\\\\\\\\\\\\"name\\\\\\\\\\\\\": null, \\\\\\\\\\\\\"annotation\\\\\\\\\\\\\": null}, {\\\\\\\\\\\\\"id\\\\\\\\\\\\\": \\\\\\\\\\\\\"e92b5ef0-cded-4524-9fc5-95cf8c282c88\\\\\\\\\\\\\", \\\\\\\\\\\\\"type\\\\\\\\\\\\\": \\\\\\\\\\\\\"Microsoft.DPrep.ParseDelimitedBlock\\\\\\\\\\\\\", \\\\\\\\\\\\\"arguments\\\\\\\\\\\\\": {\\\\\\\\\\\\\"columnHeadersMode\\\\\\\\\\\\\": 3, \\\\\\\\\\\\\"fileEncoding\\\\\\\\\\\\\": 0, \\\\\\\\\\\\\"handleQuotedLineBreaks\\\\\\\\\\\\\": false, \\\\\\\\\\\\\"preview\\\\\\\\\\\\\": false, \\\\\\\\\\\\\"separator\\\\\\\\\\\\\": \\\\\\\\\\\\\",\\\\\\\\\\\\\", \\\\\\\\\\\\\"skipRows\\\\\\\\\\\\\": 0, \\\\\\\\\\\\\"skipRowsMode\\\\\\\\\\\\\": 0}, \\\\\\\\\\\\\"localData\\\\\\\\\\\\\": {}, \\\\\\\\\\\\\"isEnabled\\\\\\\\\\\\\": true, \\\\\\\\\\\\\"name\\\\\\\\\\\\\": null, \\\\\\\\\\\\\"annotation\\\\\\\\\\\\\": null}, {\\\\\\\\\\\\\"id\\\\\\\\\\\\\": \\\\\\\\\\\\\"65b89c02-437f-4ff5-b03f-f07c10610c78\\\\\\\\\\\\\", \\\\\\\\\\\\\"type\\\\\\\\\\\\\": \\\\\\\\\\\\\"Microsoft.DPrep.DropColumnsBlock\\\\\\\\\\\\\", \\\\\\\\\\\\\"arguments\\\\\\\\\\\\\": {\\\\\\\\\\\\\"columns\\\\\\\\\\\\\": {\\\\\\\\\\\\\"type\\\\\\\\\\\\\": 0, \\\\\\\\\\\\\"details\\\\\\\\\\\\\": {\\\\\\\\\\\\\"selectedColumns\\\\\\\\\\\\\": [\\\\\\\\\\\\\"Path\\\\\\\\\\\\\"]}}}, \\\\\\\\\\\\\"localData\\\\\\\\\\\\\": {}, \\\\\\\\\\\\\"isEnabled\\\\\\\\\\\\\": true, \\\\\\\\\\\\\"name\\\\\\\\\\\\\": null, \\\\\\\\\\\\\"annotation\\\\\\\\\\\\\": null}, {\\\\\\\\\\\\\"id\\\\\\\\\\\\\": \\\\\\\\\\\\\"fa28eddc-124b-4487-aa29-a8e4428da410\\\\\\\\\\\\\", \\\\\\\\\\\\\"type\\\\\\\\\\\\\": \\\\\\\\\\\\\"Microsoft.DPrep.SetColumnTypesBlock\\\\\\\\\\\\\", \\\\\\\\\\\\\"arguments\\\\\\\\\\\\\": {\\\\\\\\\\\\\"columnConversion\\\\\\\\\\\\\": [{\\\\\\\\\\\\\"column\\\\\\\\\\\\\": {\\\\\\\\\\\\\"type\\\\\\\\\\\\\": 2, \\\\\\\\\\\\\"details\\\\\\\\\\\\\": {\\\\\\\\\\\\\"selectedColumn\\\\\\\\\\\\\": \\\\\\\\\\\\\"Column1\\\\\\\\\\\\\"}}, \\\\\\\\\\\\\"typeProperty\\\\\\\\\\\\\": 2}, {\\\\\\\\\\\\\"column\\\\\\\\\\\\\": {\\\\\\\\\\\\\"type\\\\\\\\\\\\\": 2, \\\\\\\\\\\\\"details\\\\\\\\\\\\\": {\\\\\\\\\\\\\"selectedColumn\\\\\\\\\\\\\": \\\\\\\\\\\\\"gender\\\\\\\\\\\\\"}}, \\\\\\\\\\\\\"typeProperty\\\\\\\\\\\\\": 3}, {\\\\\\\\\\\\\"column\\\\\\\\\\\\\": {\\\\\\\\\\\\\"type\\\\\\\\\\\\\": 2, \\\\\\\\\\\\\"details\\\\\\\\\\\\\": {\\\\\\\\\\\\\"selectedColumn\\\\\\\\\\\\\": \\\\\\\\\\\\\"age\\\\\\\\\\\\\"}}, \\\\\\\\\\\\\"typeProperty\\\\\\\\\\\\\": 3}, {\\\\\\\\\\\\\"column\\\\\\\\\\\\\": {\\\\\\\\\\\\\"type\\\\\\\\\\\\\": 2, \\\\\\\\\\\\\"details\\\\\\\\\\\\\": {\\\\\\\\\\\\\"selectedColumn\\\\\\\\\\\\\": \\\\\\\\\\\\\"hypertension\\\\\\\\\\\\\"}}, \\\\\\\\\\\\\"typeProperty\\\\\\\\\\\\\": 2}, {\\\\\\\\\\\\\"column\\\\\\\\\\\\\": {\\\\\\\\\\\\\"type\\\\\\\\\\\\\": 2, \\\\\\\\\\\\\"details\\\\\\\\\\\\\": {\\\\\\\\\\\\\"selectedColumn\\\\\\\\\\\\\": \\\\\\\\\\\\\"heart_disease\\\\\\\\\\\\\"}}, \\\\\\\\\\\\\"typeProperty\\\\\\\\\\\\\": 2}, {\\\\\\\\\\\\\"column\\\\\\\\\\\\\": {\\\\\\\\\\\\\"type\\\\\\\\\\\\\": 2, \\\\\\\\\\\\\"details\\\\\\\\\\\\\": {\\\\\\\\\\\\\"selectedColumn\\\\\\\\\\\\\": \\\\\\\\\\\\\"ever_married\\\\\\\\\\\\\"}}, \\\\\\\\\\\\\"typeProperty\\\\\\\\\\\\\": 3}, {\\\\\\\\\\\\\"column\\\\\\\\\\\\\": {\\\\\\\\\\\\\"type\\\\\\\\\\\\\": 2, \\\\\\\\\\\\\"details\\\\\\\\\\\\\": {\\\\\\\\\\\\\"selectedColumn\\\\\\\\\\\\\": \\\\\\\\\\\\\"work_type\\\\\\\\\\\\\"}}, \\\\\\\\\\\\\"typeProperty\\\\\\\\\\\\\": 3}, {\\\\\\\\\\\\\"column\\\\\\\\\\\\\": {\\\\\\\\\\\\\"type\\\\\\\\\\\\\": 2, \\\\\\\\\\\\\"details\\\\\\\\\\\\\": {\\\\\\\\\\\\\"selectedColumn\\\\\\\\\\\\\": \\\\\\\\\\\\\"Residence_type\\\\\\\\\\\\\"}}, \\\\\\\\\\\\\"typeProperty\\\\\\\\\\\\\": 3}, {\\\\\\\\\\\\\"column\\\\\\\\\\\\\": {\\\\\\\\\\\\\"type\\\\\\\\\\\\\": 2, \\\\\\\\\\\\\"details\\\\\\\\\\\\\": {\\\\\\\\\\\\\"selectedColumn\\\\\\\\\\\\\": \\\\\\\\\\\\\"avg_glucose_level\\\\\\\\\\\\\"}}, \\\\\\\\\\\\\"typeProperty\\\\\\\\\\\\\": 3}, {\\\\\\\\\\\\\"column\\\\\\\\\\\\\": {\\\\\\\\\\\\\"type\\\\\\\\\\\\\": 2, \\\\\\\\\\\\\"details\\\\\\\\\\\\\": {\\\\\\\\\\\\\"selectedColumn\\\\\\\\\\\\\": \\\\\\\\\\\\\"bmi\\\\\\\\\\\\\"}}, \\\\\\\\\\\\\"typeProperty\\\\\\\\\\\\\": 3}, {\\\\\\\\\\\\\"column\\\\\\\\\\\\\": {\\\\\\\\\\\\\"type\\\\\\\\\\\\\": 2, \\\\\\\\\\\\\"details\\\\\\\\\\\\\": {\\\\\\\\\\\\\"selectedColumn\\\\\\\\\\\\\": \\\\\\\\\\\\\"smoking_status\\\\\\\\\\\\\"}}, \\\\\\\\\\\\\"typeProperty\\\\\\\\\\\\\": 3}, {\\\\\\\\\\\\\"column\\\\\\\\\\\\\": {\\\\\\\\\\\\\"type\\\\\\\\\\\\\": 2, \\\\\\\\\\\\\"details\\\\\\\\\\\\\": {\\\\\\\\\\\\\"selectedColumn\\\\\\\\\\\\\": \\\\\\\\\\\\\"stroke\\\\\\\\\\\\\"}}, \\\\\\\\\\\\\"typeProperty\\\\\\\\\\\\\": 2}]}, \\\\\\\\\\\\\"localData\\\\\\\\\\\\\": {}, \\\\\\\\\\\\\"isEnabled\\\\\\\\\\\\\": true, \\\\\\\\\\\\\"name\\\\\\\\\\\\\": null, \\\\\\\\\\\\\"annotation\\\\\\\\\\\\\": null}], \\\\\\\\\\\\\"inspectors\\\\\\\\\\\\\": [], \\\\\\\\\\\\\"meta\\\\\\\\\\\\\": {\\\\\\\\\\\\\"savedDatasetId\\\\\\\\\\\\\": \\\\\\\\\\\\\"fae984ea-09d6-45f9-bc7c-4f0f83f6088d\\\\\\\\\\\\\", \\\\\\\\\\\\\"datasetType\\\\\\\\\\\\\": \\\\\\\\\\\\\"tabular\\\\\\\\\\\\\", \\\\\\\\\\\\\"subscriptionId\\\\\\\\\\\\\": \\\\\\\\\\\\\"fa3dfb7e-5583-41a5-b60c-022e3fcc2942\\\\\\\\\\\\\", \\\\\\\\\\\\\"workspaceId\\\\\\\\\\\\\": \\\\\\\\\\\\\"abf3fd6e-9136-4a11-b631-c064ce20d719\\\\\\\\\\\\\", \\\\\\\\\\\\\"workspaceLocation\\\\\\\\\\\\\": \\\\\\\\\\\\\"eastus\\\\\\\\\\\\\"}}\\\\\", \\\\\"activities\\\\\": 0}',\n",
       "  'EnableSubsampling': None,\n",
       "  'runTemplate': 'AutoML',\n",
       "  'azureml.runsource': 'automl',\n",
       "  'display_task_type': 'classification',\n",
       "  'dependencies_versions': '{\"azureml-widgets\": \"1.22.0\", \"azureml-train\": \"1.22.0\", \"azureml-train-restclients-hyperdrive\": \"1.22.0\", \"azureml-train-core\": \"1.22.0\", \"azureml-train-automl\": \"1.22.0\", \"azureml-train-automl-runtime\": \"1.22.0\", \"azureml-train-automl-client\": \"1.22.0\", \"azureml-tensorboard\": \"1.22.0\", \"azureml-telemetry\": \"1.22.0\", \"azureml-sdk\": \"1.22.0\", \"azureml-samples\": \"0+unknown\", \"azureml-pipeline\": \"1.22.0\", \"azureml-pipeline-steps\": \"1.22.0\", \"azureml-pipeline-core\": \"1.22.0\", \"azureml-opendatasets\": \"1.22.0\", \"azureml-model-management-sdk\": \"1.0.1b6.post1\", \"azureml-mlflow\": \"1.22.0\", \"azureml-interpret\": \"1.22.0\", \"azureml-explain-model\": \"1.22.0\", \"azureml-defaults\": \"1.22.0\", \"azureml-dataset-runtime\": \"1.22.0\", \"azureml-dataprep\": \"2.9.1\", \"azureml-dataprep-rslex\": \"1.7.0\", \"azureml-dataprep-native\": \"29.0.0\", \"azureml-datadrift\": \"1.22.0\", \"azureml-core\": \"1.22.0\", \"azureml-contrib-services\": \"1.22.0\", \"azureml-contrib-server\": \"1.22.0\", \"azureml-contrib-reinforcementlearning\": \"1.22.0\", \"azureml-contrib-pipeline-steps\": \"1.22.0\", \"azureml-contrib-notebook\": \"1.22.0\", \"azureml-contrib-interpret\": \"1.22.0\", \"azureml-contrib-gbdt\": \"1.22.0\", \"azureml-contrib-fairness\": \"1.22.0\", \"azureml-contrib-dataset\": \"1.22.0\", \"azureml-cli-common\": \"1.22.0\", \"azureml-automl-runtime\": \"1.22.0\", \"azureml-automl-core\": \"1.22.0\", \"azureml-accel-models\": \"1.22.0\"}',\n",
       "  '_aml_system_scenario_identification': 'Remote.Parent',\n",
       "  'ClientType': 'SDK',\n",
       "  'environment_cpu_name': 'AzureML-AutoML',\n",
       "  'environment_cpu_label': 'prod',\n",
       "  'environment_gpu_name': 'AzureML-AutoML-GPU',\n",
       "  'environment_gpu_label': 'prod',\n",
       "  'root_attribution': 'automl',\n",
       "  'attribution': 'AutoML',\n",
       "  'Orchestrator': 'AutoML',\n",
       "  'CancelUri': 'https://eastus.api.azureml.ms/jasmine/v1.0/subscriptions/fa3dfb7e-5583-41a5-b60c-022e3fcc2942/resourceGroups/mlops-rg-templateml/providers/Microsoft.MachineLearningServices/workspaces/mlops-aml-ws-templateml/experimentids/d712990e-3b29-4dbe-9fe9-3682bb4d6477/cancel/AutoML_3d077790-c191-4e70-92f9-555383579bac',\n",
       "  'ClientSdkVersion': '1.27.0.post1',\n",
       "  'snapshotId': '00000000-0000-0000-0000-000000000000',\n",
       "  'SetupRunId': 'AutoML_3d077790-c191-4e70-92f9-555383579bac_setup',\n",
       "  'SetupRunContainerId': 'dcid.AutoML_3d077790-c191-4e70-92f9-555383579bac_setup',\n",
       "  'FeaturizationRunJsonPath': 'featurizer_container.json',\n",
       "  'FeaturizationRunId': 'AutoML_3d077790-c191-4e70-92f9-555383579bac_featurize',\n",
       "  'ProblemInfoJsonString': '{\"dataset_num_categorical\": 0, \"is_sparse\": false, \"subsampling\": false, \"dataset_classes\": 2, \"dataset_features\": 11, \"dataset_samples\": 4088, \"single_frequency_class_detected\": false}',\n",
       "  'ModelExplainRunId': 'AutoML_3d077790-c191-4e70-92f9-555383579bac_ModelExplain'},\n",
       " 'inputDatasets': [{'dataset': {'id': 'fae984ea-09d6-45f9-bc7c-4f0f83f6088d'}, 'consumptionDetails': {'type': 'RunInput', 'inputName': 'training_data', 'mechanism': 'Direct'}}],\n",
       " 'outputDatasets': [],\n",
       " 'logFiles': {},\n",
       " 'submittedBy': 'Faten Belarbi'}"
      ]
     },
     "execution_count": 14,
     "metadata": {},
     "output_type": "execute_result"
    }
   ],
   "source": [
    "%%time\n",
    "remote_run.wait_for_completion()"
   ]
  },
  {
   "cell_type": "markdown",
   "metadata": {},
   "source": [
    "## Best Model\n",
    "\n",
    "TODO: In the cell below, get the best model from the automl experiments and display all the properties of the model.\n",
    "\n"
   ]
  },
  {
   "cell_type": "code",
   "execution_count": 15,
   "metadata": {},
   "outputs": [],
   "source": [
    "best_run, onnx_model= remote_run.get_output(return_onnx_model=True)"
   ]
  },
  {
   "cell_type": "code",
   "execution_count": 16,
   "metadata": {},
   "outputs": [],
   "source": [
    "OnnxConverter.save_onnx_model(onnx_model, file_path=\"./automl_model.onnx\")"
   ]
  },
  {
   "cell_type": "code",
   "execution_count": 17,
   "metadata": {},
   "outputs": [
    {
     "data": {
      "text/plain": [
       "{'runTemplate': 'automl_child',\n",
       " 'pipeline_id': '__AutoML_Ensemble__',\n",
       " 'pipeline_spec': '{\"pipeline_id\":\"__AutoML_Ensemble__\",\"objects\":[{\"module\":\"azureml.train.automl.ensemble\",\"class_name\":\"Ensemble\",\"spec_class\":\"sklearn\",\"param_args\":[],\"param_kwargs\":{\"automl_settings\":\"{\\'task_type\\':\\'classification\\',\\'primary_metric\\':\\'accuracy\\',\\'verbosity\\':20,\\'ensemble_iterations\\':15,\\'is_timeseries\\':False,\\'name\\':\\'automl-stroke-classification-experiment\\',\\'compute_target\\':\\'F-VM\\',\\'subscription_id\\':\\'fa3dfb7e-5583-41a5-b60c-022e3fcc2942\\',\\'region\\':\\'eastus\\',\\'spark_service\\':None}\",\"ensemble_run_id\":\"AutoML_3d077790-c191-4e70-92f9-555383579bac_20\",\"experiment_name\":\"automl-stroke-classification-experiment\",\"workspace_name\":\"mlops-aml-ws-templateml\",\"subscription_id\":\"fa3dfb7e-5583-41a5-b60c-022e3fcc2942\",\"resource_group_name\":\"mlops-rg-templateml\"}}]}',\n",
       " 'training_percent': '100',\n",
       " 'predicted_cost': None,\n",
       " 'iteration': '20',\n",
       " '_aml_system_scenario_identification': 'Remote.Child',\n",
       " '_azureml.ComputeTargetType': 'amlcompute',\n",
       " 'ContentSnapshotId': '2017748c-7336-4ae0-8e81-067d523774f9',\n",
       " 'ProcessInfoFile': 'azureml-logs/process_info.json',\n",
       " 'ProcessStatusFile': 'azureml-logs/process_status.json',\n",
       " 'run_template': 'automl_child',\n",
       " 'run_preprocessor': '',\n",
       " 'run_algorithm': 'VotingEnsemble',\n",
       " 'model_output_path': 'outputs/model.pkl',\n",
       " 'conda_env_data_location': 'aml://artifact/ExperimentRun/dcid.AutoML_3d077790-c191-4e70-92f9-555383579bac_20/outputs/conda_env_v_1_0_0.yml',\n",
       " 'model_data_location': 'aml://artifact/ExperimentRun/dcid.AutoML_3d077790-c191-4e70-92f9-555383579bac_20/outputs/model.pkl',\n",
       " 'model_size_on_disk': '291464',\n",
       " 'scoring_data_location': 'aml://artifact/ExperimentRun/dcid.AutoML_3d077790-c191-4e70-92f9-555383579bac_20/outputs/scoring_file_v_1_0_0.py',\n",
       " 'model_exp_support': 'True',\n",
       " 'pipeline_graph_version': '1.0.0',\n",
       " 'model_name': 'AutoML3d077790c20',\n",
       " 'staticProperties': '{}',\n",
       " 'score': '1.0',\n",
       " 'score_table': 'NaN',\n",
       " 'run_properties': \"classification_labels=None,\\n                              estimators=[('15',\\n                                           Pipeline(memory=None,\\n                                                    steps=[('standardscalerwrapper',\\n                                                            <azureml.automl.runtime.shared.model_wrappers.StandardScalerWrapper object at 0x7f2ebc17e940>\",\n",
       " 'pipeline_script': '{\"pipeline_id\":\"__AutoML_Ensemble__\",\"objects\":[{\"module\":\"azureml.train.automl.ensemble\",\"class_name\":\"Ensemble\",\"spec_class\":\"sklearn\",\"param_args\":[],\"param_kwargs\":{\"automl_settings\":\"{\\'task_type\\':\\'classification\\',\\'primary_metric\\':\\'accuracy\\',\\'verbosity\\':20,\\'ensemble_iterations\\':15,\\'is_timeseries\\':False,\\'name\\':\\'automl-stroke-classification-experiment\\',\\'compute_target\\':\\'F-VM\\',\\'subscription_id\\':\\'fa3dfb7e-5583-41a5-b60c-022e3fcc2942\\',\\'region\\':\\'eastus\\',\\'spark_service\\':None}\",\"ensemble_run_id\":\"AutoML_3d077790-c191-4e70-92f9-555383579bac_20\",\"experiment_name\":\"automl-stroke-classification-experiment\",\"workspace_name\":\"mlops-aml-ws-templateml\",\"subscription_id\":\"fa3dfb7e-5583-41a5-b60c-022e3fcc2942\",\"resource_group_name\":\"mlops-rg-templateml\"}}]}',\n",
       " 'training_type': 'MeanCrossValidation',\n",
       " 'num_classes': '',\n",
       " 'framework': 'sklearn',\n",
       " 'fit_time': '10',\n",
       " 'goal': 'accuracy_max',\n",
       " 'class_labels': '',\n",
       " 'primary_metric': 'accuracy',\n",
       " 'errors': '{}',\n",
       " 'onnx_model_resource': \"{'RawColumnNameToOnnxNameMap': {'Column1': 'Column1', 'gender': 'gender', 'age': 'age', 'hypertension': 'hypertension', 'heart_disease': 'heart_disease', 'ever_married': 'ever_married', 'work_type': 'work_type', 'Residence_type': 'Residence_type', 'avg_glucose_level': 'avg_glucose_level', 'bmi': 'bmi', 'smoking_status': 'smoking_status'}, 'InputRawColumnSchema': {'Column1': 'integer', 'gender': 'floating', 'age': 'floating', 'hypertension': 'integer', 'heart_disease': 'integer', 'ever_married': 'floating', 'work_type': 'floating', 'Residence_type': 'floating', 'avg_glucose_level': 'floating', 'bmi': 'floating', 'smoking_status': 'floating'}, 'InputOnnxColumnSchema': {'Column1': 'Int64TensorType', 'gender': 'FloatTensorType', 'age': 'FloatTensorType', 'hypertension': 'Int64TensorType', 'heart_disease': 'Int64TensorType', 'ever_married': 'FloatTensorType', 'work_type': 'FloatTensorType', 'Residence_type': 'FloatTensorType', 'avg_glucose_level': 'FloatTensorType', 'bmi': 'FloatTensorType', 'smoking_status': 'FloatTensorType'}, 'CanEnableBatchMode': True}\",\n",
       " 'error_code': '',\n",
       " 'failure_reason': '',\n",
       " 'dependencies_versions': '{\"azureml-train-automl-runtime\": \"1.27.0.post1\", \"azureml-train-automl-client\": \"1.27.0\", \"azureml-telemetry\": \"1.27.0\", \"azureml-pipeline-core\": \"1.27.0\", \"azureml-model-management-sdk\": \"1.0.1b6.post1\", \"azureml-mlflow\": \"1.27.0\", \"azureml-interpret\": \"1.27.0\", \"azureml-defaults\": \"1.27.0\", \"azureml-dataset-runtime\": \"1.27.0\", \"azureml-dataprep\": \"2.14.2\", \"azureml-dataprep-rslex\": \"1.12.1\", \"azureml-dataprep-native\": \"33.0.0\", \"azureml-core\": \"1.27.0\", \"azureml-automl-runtime\": \"1.27.0.post1\", \"azureml-automl-core\": \"1.27.0\"}',\n",
       " 'num_cores': '4',\n",
       " 'num_logical_cores': '4',\n",
       " 'peak_memory_usage': '537544',\n",
       " 'vm_configuration': 'Intel(R) Xeon(R) CPU E5-2673 v4 @ 2.30GHz',\n",
       " 'core_hours': '0.004431168888888889',\n",
       " 'feature_skus': 'automatedml_sdk_guardrails'}"
      ]
     },
     "execution_count": 17,
     "metadata": {},
     "output_type": "execute_result"
    }
   ],
   "source": [
    "best_run.get_properties()"
   ]
  },
  {
   "cell_type": "code",
   "execution_count": 18,
   "metadata": {},
   "outputs": [
    {
     "data": {
      "text/plain": [
       "{'f1_score_micro': 1.0,\n",
       " 'average_precision_score_macro': 1.0,\n",
       " 'recall_score_macro': 1.0,\n",
       " 'matthews_correlation': 1.0,\n",
       " 'balanced_accuracy': 1.0,\n",
       " 'average_precision_score_weighted': 1.0,\n",
       " 'weighted_accuracy': 1.0,\n",
       " 'recall_score_micro': 1.0,\n",
       " 'recall_score_weighted': 1.0,\n",
       " 'log_loss': 0.050787497746738394,\n",
       " 'accuracy': 1.0,\n",
       " 'average_precision_score_micro': 1.0,\n",
       " 'precision_score_macro': 1.0,\n",
       " 'AUC_weighted': 1.0,\n",
       " 'precision_score_micro': 1.0,\n",
       " 'norm_macro_recall': 1.0,\n",
       " 'f1_score_macro': 1.0,\n",
       " 'AUC_macro': 1.0,\n",
       " 'AUC_micro': 1.0,\n",
       " 'f1_score_weighted': 1.0,\n",
       " 'precision_score_weighted': 1.0,\n",
       " 'accuracy_table': 'aml://artifactId/ExperimentRun/dcid.AutoML_3d077790-c191-4e70-92f9-555383579bac_20/accuracy_table',\n",
       " 'confusion_matrix': 'aml://artifactId/ExperimentRun/dcid.AutoML_3d077790-c191-4e70-92f9-555383579bac_20/confusion_matrix'}"
      ]
     },
     "execution_count": 18,
     "metadata": {},
     "output_type": "execute_result"
    }
   ],
   "source": [
    "best_run.get_metrics()"
   ]
  },
  {
   "cell_type": "code",
   "execution_count": 19,
   "metadata": {},
   "outputs": [
    {
     "name": "stdout",
     "output_type": "stream",
     "text": [
      "Run(Experiment: automl-stroke-classification-experiment,\n",
      "Id: AutoML_3d077790-c191-4e70-92f9-555383579bac_20,\n",
      "Type: azureml.scriptrun,\n",
      "Status: Completed)\n"
     ]
    }
   ],
   "source": [
    "print(best_run)"
   ]
  },
  {
   "cell_type": "markdown",
   "metadata": {},
   "source": [
    "## Model Deployment\n",
    "\n",
    "Remember you have to deploy only one of the two models you trained.. Perform the steps in the rest of this notebook only if you wish to deploy this model.\n",
    "\n",
    "TODO: In the cell below, register the model, create an inference config and deploy the model as a web service."
   ]
  },
  {
   "cell_type": "code",
   "execution_count": 20,
   "metadata": {
    "gather": {
     "logged": 1598431435189
    },
    "jupyter": {
     "outputs_hidden": false,
     "source_hidden": false
    },
    "nteract": {
     "transient": {
      "deleting": false
     }
    }
   },
   "outputs": [],
   "source": [
    "model_name = best_run.properties['model_name']\n",
    "script_file_name = 'score.py'\n",
    "best_run.download_file('outputs/scoring_file_v_1_0_0.py', 'score.py')"
   ]
  },
  {
   "cell_type": "code",
   "execution_count": 21,
   "metadata": {},
   "outputs": [
    {
     "name": "stdout",
     "output_type": "stream",
     "text": [
      "AutoML3d077790c20\n"
     ]
    }
   ],
   "source": [
    "description = 'AutoML Model'\n",
    "tags = None\n",
    "model = remote_run.register_model(model_name = model_name, description = description, tags = tags)\n",
    "print(remote_run.model_id)"
   ]
  },
  {
   "cell_type": "code",
   "execution_count": 23,
   "metadata": {},
   "outputs": [
    {
     "name": "stdout",
     "output_type": "stream",
     "text": [
      "automl-uciheart1\n",
      "Tips: You can try get_logs(): https://aka.ms/debugimage#dockerlog or local deployment: https://aka.ms/debugimage#debug-locally to debug if deployment takes longer than 10 minutes.\n",
      "Running..........\n",
      "Succeeded\n",
      "ACI service creation operation finished, operation \"Succeeded\"\n",
      "Healthy\n"
     ]
    }
   ],
   "source": [
    "from azureml.core.model import InferenceConfig\n",
    "from azureml.core.webservice import AciWebservice\n",
    "from azureml.core.webservice import Webservice\n",
    "from azureml.core.model import Model\n",
    "from azureml.core.environment import Environment\n",
    "\n",
    "inference_config = InferenceConfig(entry_script='score.py')\n",
    "\n",
    "aciconfig = AciWebservice.deploy_configuration(cpu_cores = 1, \n",
    "                                               memory_gb = 1, \n",
    "                                               tags = {'type': \"automl_classification\"}, \n",
    "                                               description = 'Heart Data Service')\n",
    "\n",
    "aci_service_name = 'automl-uciheart1'\n",
    "print(aci_service_name)\n",
    "aci_service = Model.deploy(workspace, aci_service_name, [model], inference_config, aciconfig)\n",
    "aci_service.wait_for_deployment(True)\n",
    "print(aci_service.state)"
   ]
  },
  {
   "cell_type": "code",
   "execution_count": 24,
   "metadata": {},
   "outputs": [],
   "source": [
    "aci_service.update(enable_app_insights=True)"
   ]
  },
  {
   "cell_type": "code",
   "execution_count": 25,
   "metadata": {},
   "outputs": [
    {
     "name": "stdout",
     "output_type": "stream",
     "text": [
      "\n",
      "service state: Healthy\n",
      "\n",
      "scoring URI: \n",
      "http://5bbe88a5-7788-4805-8569-39961483f826.eastus.azurecontainer.io/score\n",
      "\n",
      "swagger URI: \n",
      "http://5bbe88a5-7788-4805-8569-39961483f826.eastus.azurecontainer.io/swagger.json\n",
      "\n"
     ]
    }
   ],
   "source": [
    "print(f'\\nservice state: {aci_service.state}\\n')\n",
    "print(f'scoring URI: \\n{aci_service.scoring_uri}\\n')\n",
    "print(f'swagger URI: \\n{aci_service.swagger_uri}\\n')"
   ]
  },
  {
   "cell_type": "markdown",
   "metadata": {
    "collapsed": true,
    "gather": {
     "logged": 1598431657736
    },
    "jupyter": {
     "outputs_hidden": false,
     "source_hidden": false
    },
    "nteract": {
     "transient": {
      "deleting": false
     }
    }
   },
   "source": [
    "TODO: In the cell below, send a request to the web service you deployed to test it."
   ]
  },
  {
   "cell_type": "code",
   "execution_count": 28,
   "metadata": {
    "gather": {
     "logged": 1598432707604
    },
    "jupyter": {
     "outputs_hidden": false,
     "source_hidden": false
    },
    "nteract": {
     "transient": {
      "deleting": false
     }
    }
   },
   "outputs": [
    {
     "name": "stdout",
     "output_type": "stream",
     "text": [
      "<Response [502]>\n"
     ]
    }
   ],
   "source": [
    "import json\n",
    "import requests\n",
    "\n",
    "scoring_uri = aci_service.scoring_uri\n",
    "# Two sets of data to score, so we get two results back\n",
    "data = {\"data\":\n",
    "        [\n",
    "          { \n",
    "            \"gender\": 45,\n",
    "            \"age\": 0,\n",
    "            \"hypertension\": 2413,\n",
    "            \"heart_disease\": 0,\n",
    "            \"ever_married\": 38,\n",
    "            \"work_type\": 0,\n",
    "            \"Residence_type\": 140000,\n",
    "            \"avg_glucose_level\": 1.4,\n",
    "            \"bmi\": 140,\n",
    "            \"smoking_status\": 1\n",
    "          },\n",
    "          {\n",
    "            \"gender\": 50,\n",
    "            \"age\": 0,\n",
    "            \"hypertension\": 196,\n",
    "            \"heart_disease\": 0,\n",
    "            \"ever_married\": \"45\",\n",
    "            \"work_type\": 0,\n",
    "            \"Residence_type\": 395000,\n",
    "            \"avg_glucose_level\": 1.6,\n",
    "            \"bmi\": 136,\n",
    "            \"smoking_status\":1\n",
    "          },\n",
    "      ]\n",
    "    }\n",
    "# Convert to JSON string\n",
    "input_data = json.dumps(data)\n",
    "# Set the content type\n",
    "headers = {'Content-Type': 'application/json'}\n",
    "# Make the request and display the response\n",
    "resp = requests.post(scoring_uri, input_data, headers=headers)\n",
    "print(resp)"
   ]
  },
  {
   "cell_type": "markdown",
   "metadata": {
    "collapsed": true,
    "gather": {
     "logged": 1598432765711
    },
    "jupyter": {
     "outputs_hidden": false,
     "source_hidden": false
    },
    "nteract": {
     "transient": {
      "deleting": false
     }
    }
   },
   "source": [
    "TODO: In the cell below, print the logs of the web service and delete the service"
   ]
  },
  {
   "cell_type": "code",
   "execution_count": 29,
   "metadata": {
    "jupyter": {
     "outputs_hidden": false,
     "source_hidden": false
    },
    "nteract": {
     "transient": {
      "deleting": false
     }
    }
   },
   "outputs": [
    {
     "data": {
      "text/plain": [
       "'2021-04-28T13:54:44,406926200+00:00 - iot-server/run \\n2021-04-28T13:54:44,417715400+00:00 - gunicorn/run \\n2021-04-28T13:54:44,429516500+00:00 - nginx/run \\n/usr/sbin/nginx: /azureml-envs/azureml_38f1e90f927390c3641ac84304d53445/lib/libcrypto.so.1.0.0: no version information available (required by /usr/sbin/nginx)\\n/usr/sbin/nginx: /azureml-envs/azureml_38f1e90f927390c3641ac84304d53445/lib/libcrypto.so.1.0.0: no version information available (required by /usr/sbin/nginx)\\n/usr/sbin/nginx: /azureml-envs/azureml_38f1e90f927390c3641ac84304d53445/lib/libssl.so.1.0.0: no version information available (required by /usr/sbin/nginx)\\n/usr/sbin/nginx: /azureml-envs/azureml_38f1e90f927390c3641ac84304d53445/lib/libssl.so.1.0.0: no version information available (required by /usr/sbin/nginx)\\n/usr/sbin/nginx: /azureml-envs/azureml_38f1e90f927390c3641ac84304d53445/lib/libssl.so.1.0.0: no version information available (required by /usr/sbin/nginx)\\n2021-04-28T13:54:44,472428000+00:00 - rsyslog/run \\nrsyslogd: /azureml-envs/azureml_38f1e90f927390c3641ac84304d53445/lib/libuuid.so.1: no version information available (required by rsyslogd)\\nEdgeHubConnectionString and IOTEDGE_IOTHUBHOSTNAME are not set. Exiting...\\n2021-04-28T13:54:44,709729800+00:00 - iot-server/finish 1 0\\n2021-04-28T13:54:44,711651500+00:00 - Exit code 1 is normal. Not restarting iot-server.\\nStarting gunicorn 19.9.0\\nListening at: http://127.0.0.1:31311 (68)\\nUsing worker: sync\\nworker timeout is set to 300\\nBooting worker with pid: 97\\nSPARK_HOME not set. Skipping PySpark Initialization.\\nGenerating new fontManager, this may take some time...\\nInitializing logger\\n2021-04-28 13:54:47,026 | root | INFO | Starting up app insights client\\n2021-04-28 13:54:47,026 | root | INFO | Starting up request id generator\\n2021-04-28 13:54:47,027 | root | INFO | Starting up app insight hooks\\n2021-04-28 13:54:47,027 | root | INFO | Invoking user\\'s init function\\n2021-04-28 13:54:50,997 | azureml.core | WARNING | Failure while loading azureml_run_type_providers. Failed to load entrypoint automl = azureml.train.automl.run:AutoMLRun._from_run_dto with exception cannot import name \\'RunType\\'.\\nFailure while loading azureml_run_type_providers. Failed to load entrypoint automl = azureml.train.automl.run:AutoMLRun._from_run_dto with exception cannot import name \\'RunType\\'.\\n2021-04-28 13:54:51,425 | root | INFO | Users\\'s init has completed successfully\\n2021-04-28 13:54:51,443 | root | INFO | Skipping middleware: dbg_model_info as it\\'s not enabled.\\n2021-04-28 13:54:51,443 | root | INFO | Skipping middleware: dbg_resource_usage as it\\'s not enabled.\\n2021-04-28 13:54:51,445 | root | INFO | Scoring timeout is found from os.environ: 60000 ms\\n2021-04-28 13:54:56,417 | root | INFO | 200\\n127.0.0.1 - - [28/Apr/2021:13:54:56 +0000] \"GET /swagger.json HTTP/1.0\" 200 2933 \"-\" \"Go-http-client/1.1\"\\n2021-04-28 13:54:59,606 | root | INFO | 200\\n127.0.0.1 - - [28/Apr/2021:13:54:59 +0000] \"GET /swagger.json HTTP/1.0\" 200 2933 \"-\" \"Go-http-client/1.1\"\\n2021-04-28 13:55:14,477 | root | INFO | 200\\n127.0.0.1 - - [28/Apr/2021:13:55:14 +0000] \"GET /swagger.json HTTP/1.0\" 200 2933 \"-\" \"Go-http-client/1.1\"\\n2021-04-28 13:55:50,671 | root | INFO | Validation Request Content-Type\\n2021-04-28 13:55:50,672 | root | INFO | Scoring Timer is set to 60.0 seconds\\n2021-04-28 13:55:50,700 | root | ERROR | Encountered Exception: Traceback (most recent call last):\\n  File \"/var/azureml-server/synchronous/routes.py\", line 64, in run_scoring\\n    response = invoke_user_with_timer(service_input, request_headers)\\n  File \"/var/azureml-server/synchronous/routes.py\", line 97, in invoke_user_with_timer\\n    result = user_main.run(**params)\\n  File \"/var/azureml-app/main.py\", line 21, in run\\n    return_obj = driver_module.run(**arguments)\\n  File \"/azureml-envs/azureml_38f1e90f927390c3641ac84304d53445/lib/python3.6/site-packages/wrapt/wrappers.py\", line 564, in __call__\\n    args, kwargs)\\n  File \"/azureml-envs/azureml_38f1e90f927390c3641ac84304d53445/lib/python3.6/site-packages/inference_schema/schema_decorators.py\", line 57, in decorator_input\\n    kwargs[param_name] = _deserialize_input_argument(kwargs[param_name], param_type, param_name)\\n  File \"/azureml-envs/azureml_38f1e90f927390c3641ac84304d53445/lib/python3.6/site-packages/inference_schema/schema_decorators.py\", line 285, in _deserialize_input_argument\\n    input_data = param_type.deserialize_input(input_data)\\n  File \"/azureml-envs/azureml_38f1e90f927390c3641ac84304d53445/lib/python3.6/site-packages/inference_schema/parameter_types/pandas_parameter_type.py\", line 92, in deserialize_input\\n    data_frame.shape[dim], dim, expected_shape[dim]))\\nValueError: Invalid input data frame: data frame has size 10 on dimension #1, while expected value is 11\\n\\nDuring handling of the above exception, another exception occurred:\\n\\nTraceback (most recent call last):\\n  File \"/azureml-envs/azureml_38f1e90f927390c3641ac84304d53445/lib/python3.6/site-packages/flask/app.py\", line 1832, in full_dispatch_request\\n    rv = self.dispatch_request()\\n  File \"/azureml-envs/azureml_38f1e90f927390c3641ac84304d53445/lib/python3.6/site-packages/flask/app.py\", line 1818, in dispatch_request\\n    return self.view_functions[rule.endpoint](**req.view_args)\\n  File \"/var/azureml-server/synchronous/routes.py\", line 43, in score_realtime\\n    return run_scoring(service_input, request.headers, request.environ.get(\\'REQUEST_ID\\', \\'00000000-0000-0000-0000-000000000000\\'))\\n  File \"/var/azureml-server/synchronous/routes.py\", line 77, in run_scoring\\n    raise RunFunctionException(str(exc))\\nrun_function_exception.RunFunctionException\\n\\n2021-04-28 13:55:50,701 | root | INFO | 500\\n127.0.0.1 - - [28/Apr/2021:13:55:50 +0000] \"POST /score HTTP/1.0\" 500 92 \"-\" \"python-requests/2.25.1\"\\n2021-04-28 13:56:31,199 | root | INFO | Validation Request Content-Type\\n2021-04-28 13:56:31,200 | root | INFO | Scoring Timer is set to 60.0 seconds\\n2021-04-28 13:56:31,219 | root | ERROR | Encountered Exception: Traceback (most recent call last):\\n  File \"/var/azureml-server/synchronous/routes.py\", line 64, in run_scoring\\n    response = invoke_user_with_timer(service_input, request_headers)\\n  File \"/var/azureml-server/synchronous/routes.py\", line 97, in invoke_user_with_timer\\n    result = user_main.run(**params)\\n  File \"/var/azureml-app/main.py\", line 21, in run\\n    return_obj = driver_module.run(**arguments)\\n  File \"/azureml-envs/azureml_38f1e90f927390c3641ac84304d53445/lib/python3.6/site-packages/wrapt/wrappers.py\", line 564, in __call__\\n    args, kwargs)\\n  File \"/azureml-envs/azureml_38f1e90f927390c3641ac84304d53445/lib/python3.6/site-packages/inference_schema/schema_decorators.py\", line 57, in decorator_input\\n    kwargs[param_name] = _deserialize_input_argument(kwargs[param_name], param_type, param_name)\\n  File \"/azureml-envs/azureml_38f1e90f927390c3641ac84304d53445/lib/python3.6/site-packages/inference_schema/schema_decorators.py\", line 285, in _deserialize_input_argument\\n    input_data = param_type.deserialize_input(input_data)\\n  File \"/azureml-envs/azureml_38f1e90f927390c3641ac84304d53445/lib/python3.6/site-packages/inference_schema/parameter_types/pandas_parameter_type.py\", line 92, in deserialize_input\\n    data_frame.shape[dim], dim, expected_shape[dim]))\\nValueError: Invalid input data frame: data frame has size 10 on dimension #1, while expected value is 11\\n\\nDuring handling of the above exception, another exception occurred:\\n\\nTraceback (most recent call last):\\n  File \"/azureml-envs/azureml_38f1e90f927390c3641ac84304d53445/lib/python3.6/site-packages/flask/app.py\", line 1832, in full_dispatch_request\\n    rv = self.dispatch_request()\\n  File \"/azureml-envs/azureml_38f1e90f927390c3641ac84304d53445/lib/python3.6/site-packages/flask/app.py\", line 1818, in dispatch_request\\n    return self.view_functions[rule.endpoint](**req.view_args)\\n  File \"/var/azureml-server/synchronous/routes.py\", line 43, in score_realtime\\n    return run_scoring(service_input, request.headers, request.environ.get(\\'REQUEST_ID\\', \\'00000000-0000-0000-0000-000000000000\\'))\\n  File \"/var/azureml-server/synchronous/routes.py\", line 77, in run_scoring\\n    raise RunFunctionException(str(exc))\\nrun_function_exception.RunFunctionException\\n\\n2021-04-28 13:56:31,221 | root | INFO | 500\\n127.0.0.1 - - [28/Apr/2021:13:56:31 +0000] \"POST /score HTTP/1.0\" 500 92 \"-\" \"python-requests/2.25.1\"\\n'"
      ]
     },
     "execution_count": 29,
     "metadata": {},
     "output_type": "execute_result"
    }
   ],
   "source": [
    "aci_service.get_logs()"
   ]
  },
  {
   "cell_type": "code",
   "execution_count": null,
   "metadata": {},
   "outputs": [],
   "source": [
    "aci_service.delete()\n",
    "model.delete()\n",
    "compute_target.delete()"
   ]
  }
 ],
 "metadata": {
  "kernel_info": {
   "name": "python3-azureml"
  },
  "kernelspec": {
   "display_name": "Python 3",
   "language": "python",
   "name": "python3"
  },
  "language_info": {
   "codemirror_mode": {
    "name": "ipython",
    "version": 3
   },
   "file_extension": ".py",
   "mimetype": "text/x-python",
   "name": "python",
   "nbconvert_exporter": "python",
   "pygments_lexer": "ipython3",
   "version": "3.6.9"
  },
  "nteract": {
   "version": "nteract-front-end@1.0.0"
  }
 },
 "nbformat": 4,
 "nbformat_minor": 2
}
